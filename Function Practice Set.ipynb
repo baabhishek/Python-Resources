{
 "cells": [
  {
   "cell_type": "markdown",
   "id": "bc1163b6",
   "metadata": {},
   "source": [
    "####  Define a function calls addNumber(x, y) that takes in two number and returns the sum of the two numbers.\n",
    "\n",
    "\n"
   ]
  },
  {
   "cell_type": "code",
   "execution_count": 5,
   "id": "cd250850",
   "metadata": {},
   "outputs": [],
   "source": [
    "def addnumber(x,y):\n",
    "    result= x+y\n",
    "    print(result)\n",
    "    "
   ]
  },
  {
   "cell_type": "markdown",
   "id": "2e799c41",
   "metadata": {},
   "source": [
    "addnumber(1078.89+981.90,786+89)"
   ]
  },
  {
   "cell_type": "markdown",
   "id": "d038558b",
   "metadata": {},
   "source": [
    "####  Define a function calls subtractNumber(x, y) that takes in two numbers and returns the difference of the two numbers.\n"
   ]
  },
  {
   "cell_type": "code",
   "execution_count": 7,
   "id": "b4a680b3",
   "metadata": {},
   "outputs": [],
   "source": [
    "def subtractNumber(x,y):\n",
    "    result= x-y\n",
    "    print(result)"
   ]
  },
  {
   "cell_type": "code",
   "execution_count": 8,
   "id": "d80d2780",
   "metadata": {},
   "outputs": [
    {
     "name": "stdout",
     "output_type": "stream",
     "text": [
      "-658044\n"
     ]
    }
   ],
   "source": [
    "subtractNumber(56098+67,714209)"
   ]
  },
  {
   "cell_type": "markdown",
   "id": "a235880a",
   "metadata": {},
   "source": [
    "#### Write a function getBiggerNumber(x, y) that takes in two numbers as arguments and returns the bigger number.\n",
    "\n",
    "\n"
   ]
  },
  {
   "cell_type": "code",
   "execution_count": 11,
   "id": "d375cc55",
   "metadata": {},
   "outputs": [],
   "source": [
    "def BiggerNumber(x,y):\n",
    "\n",
    "        max_no= max(x,y)\n",
    "        print(max_no)"
   ]
  },
  {
   "cell_type": "code",
   "execution_count": 12,
   "id": "6b9e238f",
   "metadata": {},
   "outputs": [
    {
     "name": "stdout",
     "output_type": "stream",
     "text": [
      "1092\n"
     ]
    }
   ],
   "source": [
    "BiggerNumber(-1092,1092)"
   ]
  },
  {
   "cell_type": "markdown",
   "id": "93dcbd7a",
   "metadata": {},
   "source": [
    "#### Python provides many built-in modules with many useful functions. \n",
    "####  One such module is the math module. The math module provides many useful functions such as sqrt(x), ###  pow(x, y), #### ceil(x), floor(x) etc. \n",
    "#### You will need to do a \"import math\" before you are allowed to use the functions within the math module.\n",
    "\n",
    "\n",
    "#### Calculate the square root of 16 and stores it in the variable a\n",
    "\n",
    "\n",
    "#### Calculate 3 to the power of 5 and stores it in the variable b\n",
    "\n",
    "\n",
    "####  Calculate area of circle with radius = 3.0 by making use of the math.pi constant and store it in the variable c"
   ]
  },
  {
   "cell_type": "markdown",
   "id": "30d0665d",
   "metadata": {},
   "source": [
    "import math as ma\n",
    "\n",
    "a= ma.sqrt(16)\n",
    "b= ma.pow(3,5)\n",
    "\n",
    "radius = 3.0\n",
    "c = ma.pi * (radius ** 2)\n",
    "\n",
    "\n",
    "print('Square Root is: ', a)\n",
    "print('Power Value is : ', b)\n",
    "print('Circle Radius is: ', c)\n",
    "\n"
   ]
  },
  {
   "cell_type": "markdown",
   "id": "229a4a40",
   "metadata": {},
   "source": [
    "#### Write a function to convert temperature from Celsius to Fahrenheit scale.\n",
    "#### oC to oF Conversion: Multipy by 9, then divide by 5, then add 32.\n",
    "\n",
    "#### Note: Return a string of 2 decimal places.\n",
    "####  In - Cel2Fah(28.0)\n",
    "####  Out - '82.40'\n",
    "####  In - Cel2Fah(0.00)\n",
    "####  Out - '32.00"
   ]
  },
  {
   "cell_type": "code",
   "execution_count": 1,
   "id": "d5bbc7b0",
   "metadata": {},
   "outputs": [],
   "source": [
    "def Cel2Fah(x):\n",
    "    far_con = (x * 9/5) + 32\n",
    "    result = f\"{far_con:.2f}\"\n",
    "    print(result)\n",
    "    return result"
   ]
  },
  {
   "cell_type": "code",
   "execution_count": 6,
   "id": "d62b1c19",
   "metadata": {},
   "outputs": [
    {
     "name": "stdout",
     "output_type": "stream",
     "text": [
      "82.40\n",
      "32.00\n"
     ]
    },
    {
     "data": {
      "text/plain": [
       "'32.00'"
      ]
     },
     "execution_count": 6,
     "metadata": {},
     "output_type": "execute_result"
    }
   ],
   "source": [
    "Cel2Fah(28.0)\n",
    "Cel2Fah(0.00)"
   ]
  },
  {
   "cell_type": "markdown",
   "id": "4b8854e7",
   "metadata": {},
   "source": [
    "#### Write a function to compute the BMI of a person.\n",
    "####     BMI = weight(kg)  /  ( height(m)*height(m) )\n",
    "\n",
    "####  Note: Return a string of 1 decimal place.\n",
    "####  In - BMI(63, 1.7)\n",
    "####  Out - '21.8'\n",
    "####  In - BMI(110, 2)\n",
    "####  Out - '27.5'"
   ]
  },
  {
   "cell_type": "code",
   "execution_count": 26,
   "id": "eecc0f6d",
   "metadata": {},
   "outputs": [],
   "source": [
    "def BMI(x, y):\n",
    "    BMI_value = x / (y ** 2)\n",
    "    result = f\"{BMI_value:.1f}\"\n",
    "    print(result)\n",
    "\n",
    "    if BMI_value <= 18:\n",
    "        print(f\"Note the above BMI Index {BMI_value} is Underweight😦\")\n",
    "    elif 18 < BMI_value < 24:\n",
    "        print(f\"Note the above BMI Index {BMI_value} is Normal😃\")\n",
    "    elif 25 <= BMI_value < 29:\n",
    "        print(f\"Note the above BMI Index {BMI_value} is Overweight🥴\")\n",
    "    elif 29 <= BMI_value < 34:\n",
    "        print(f\"Note the above BMI Index {BMI_value} is Obese🤯\")\n",
    "    elif 34 <= BMI_value < 35:\n",
    "        print(f\"Note the above BMI Index {BMI_value} is Extremely Obese😝\")\n",
    "    else:\n",
    "        print(\"Unknown BMI category👎\")\n",
    "\n",
    "\n",
    "    "
   ]
  },
  {
   "cell_type": "code",
   "execution_count": 31,
   "id": "9ea7340e",
   "metadata": {},
   "outputs": [
    {
     "name": "stdout",
     "output_type": "stream",
     "text": [
      "21.8\n",
      "Note the above BMI Index 21.79930795847751 is Normal😃\n"
     ]
    }
   ],
   "source": [
    "BMI(63,1.7)\n"
   ]
  },
  {
   "cell_type": "code",
   "execution_count": 29,
   "id": "a42bf6e3",
   "metadata": {},
   "outputs": [
    {
     "name": "stdout",
     "output_type": "stream",
     "text": [
      "27.5\n",
      "Note the above BMI Index 27.5 is Overweight🥴\n"
     ]
    }
   ],
   "source": [
    "BMI(110,2)"
   ]
  },
  {
   "cell_type": "markdown",
   "id": "674ccb66",
   "metadata": {},
   "source": [
    "####  Write a function percent(value, total) that takes in two numbers as arguments, and returns the percentage value as an ####  integer.\n",
    "####  In - percent(46, 90)\n",
    "####  Out - 51\n",
    "####  In - percent(51, 51)\n",
    "####  Out - 100\n",
    "####  In - percent(63, 12)\n",
    "####  Out - 525"
   ]
  },
  {
   "cell_type": "code",
   "execution_count": 47,
   "id": "c78affe4",
   "metadata": {},
   "outputs": [],
   "source": [
    "def Percent(x,y):\n",
    "    percent_for=round((x/y)*100)\n",
    "    result= f\"The conversion percentage of {x} is:>>>> {percent_for}%\"\n",
    "    print(result)\n",
    "    return(result)"
   ]
  },
  {
   "cell_type": "code",
   "execution_count": 48,
   "id": "f0effd4f",
   "metadata": {},
   "outputs": [
    {
     "name": "stdout",
     "output_type": "stream",
     "text": [
      "The conversion percentage of 46 is:>>>> 51%\n",
      "The conversion percentage of 51 is:>>>> 100%\n"
     ]
    },
    {
     "data": {
      "text/plain": [
       "'The conversion percentage of 51 is:>>>> 100%'"
      ]
     },
     "execution_count": 48,
     "metadata": {},
     "output_type": "execute_result"
    }
   ],
   "source": [
    "Percent(46,90)\n",
    "Percent(51,51)"
   ]
  },
  {
   "cell_type": "markdown",
   "id": "23268e19",
   "metadata": {},
   "source": [
    "#### Write a function to compute the hypotenuse given sides a and b of the triangle.\n",
    "#### Hint: You can use math.sqrt(x) to compute the square root of x.\n",
    "#### In - hypotenuse(3, 4)\n",
    "#### Out - 5\n",
    "#### In - hypotenuse(5, 12)\n",
    "#### Out - 13"
   ]
  },
  {
   "cell_type": "code",
   "execution_count": 63,
   "id": "c9c273ef",
   "metadata": {},
   "outputs": [],
   "source": [
    "import math as ma\n",
    "\n",
    "def hypotenuse(a,b):\n",
    "    c= a**2+b**2\n",
    "    hyp_result=int(ma.sqrt(c))\n",
    "    print(f\" The Hypotenuse of {a,b} is {hyp_result}\")\n",
    "  "
   ]
  },
  {
   "cell_type": "code",
   "execution_count": 64,
   "id": "6e2cc5bc",
   "metadata": {},
   "outputs": [
    {
     "name": "stdout",
     "output_type": "stream",
     "text": [
      " The Hypotenuse of (3, 4) is 5\n",
      " The Hypotenuse of (5, 12) is 13\n"
     ]
    }
   ],
   "source": [
    "hypotenuse(3,4)\n",
    "hypotenuse(5, 12)\n"
   ]
  },
  {
   "cell_type": "markdown",
   "id": "3e21013f",
   "metadata": {},
   "source": [
    "#### Write a function getSumOfLastDigits() that takes in a list of positive numbers and returns the sum of all the last digits in the list.\n",
    "####  getSumOfLastDigits([2, 3, 4])\n",
    "####  9\n",
    "####  getSumOfLastDigits([1, 23, 456])\n",
    "####  10"
   ]
  },
  {
   "cell_type": "code",
   "execution_count": 32,
   "id": "28db95df",
   "metadata": {},
   "outputs": [],
   "source": [
    "def getSumOfLastDigits(list_of_num):\n",
    "    last_digit_sum = 0\n",
    "    for i in list_of_num:\n",
    "        last_digit = int(str(i)[-1])\n",
    "        last_digit_sum =last_digit_sum + last_digit  \n",
    "    print(f\" Sum of Last digit is {last_digit_sum}\")\n",
    "    return last_digit_sum"
   ]
  },
  {
   "cell_type": "code",
   "execution_count": 31,
   "id": "6547e925",
   "metadata": {},
   "outputs": [
    {
     "name": "stdout",
     "output_type": "stream",
     "text": [
      " Sum of Last digit is 9\n",
      " Sum of Last digit is 10\n"
     ]
    },
    {
     "data": {
      "text/plain": [
       "10"
      ]
     },
     "execution_count": 31,
     "metadata": {},
     "output_type": "execute_result"
    }
   ],
   "source": [
    "getSumOfLastDigits([2,3,4])\n",
    "getSumOfLastDigits([1,23,456])"
   ]
  },
  {
   "cell_type": "markdown",
   "id": "b7d24bbf",
   "metadata": {},
   "source": [
    "#### Write a function that uses a default value.\n",
    "#### In - introduce('Lim', 20)\n",
    "#### Out - 'My name is Lim. I am 20 years old.'\n",
    "#### In - introduce('Ahmad')\n",
    "#### Out - 'My name is Ahmad. My age is secret.'"
   ]
  },
  {
   "cell_type": "code",
   "execution_count": 44,
   "id": "9d20249e",
   "metadata": {},
   "outputs": [],
   "source": [
    "def introduce(name, age='secret'):\n",
    "    if age == 'secret':\n",
    "        return f\"My name is {name}. My age is secret.\"\n",
    "    else:\n",
    "        return f\"My name is {name}. I am {age} years old.\"\n",
    "\n",
    "    "
   ]
  },
  {
   "cell_type": "code",
   "execution_count": 48,
   "id": "e2f02764",
   "metadata": {},
   "outputs": [
    {
     "data": {
      "text/plain": [
       "'My name is Lim. I am 20 years old.'"
      ]
     },
     "execution_count": 48,
     "metadata": {},
     "output_type": "execute_result"
    }
   ],
   "source": [
    "introduce('Lim',20)\n"
   ]
  },
  {
   "cell_type": "code",
   "execution_count": 50,
   "id": "bf9ef8b9",
   "metadata": {},
   "outputs": [
    {
     "data": {
      "text/plain": [
       "'My name is Ahmad. My age is secret.'"
      ]
     },
     "execution_count": 50,
     "metadata": {},
     "output_type": "execute_result"
    }
   ],
   "source": [
    "introduce('Ahmad')\n"
   ]
  },
  {
   "cell_type": "markdown",
   "id": "791419e5",
   "metadata": {},
   "source": [
    "####  Write a function is Equilateral(x, y, z) that accepts the 3 sides of a triangle as arguments. \n",
    "####  The program should return True if it is an equilateral triangle.\n",
    "\n",
    "####  In - isEquilateral(2, 4, 3)\n",
    "####  False - False\n",
    "####  In - isEquilateral(3, 3, 3)\n",
    "####  Out - True\n",
    "####  In - isEquilateral(-3, -3, -3)\n",
    "####  Out - False"
   ]
  },
  {
   "cell_type": "code",
   "execution_count": 9,
   "id": "9fe0eff9",
   "metadata": {},
   "outputs": [],
   "source": [
    "def isEquilateral(x,y,z):\n",
    "    if x>0 and y>0 and z>0 and x==y==z:\n",
    "        return True\n",
    "    else:\n",
    "        return False\n",
    "        "
   ]
  },
  {
   "cell_type": "code",
   "execution_count": 10,
   "id": "fc244f4a",
   "metadata": {},
   "outputs": [
    {
     "data": {
      "text/plain": [
       "False"
      ]
     },
     "execution_count": 10,
     "metadata": {},
     "output_type": "execute_result"
    }
   ],
   "source": [
    "isEquilateral(2,4,3)"
   ]
  },
  {
   "cell_type": "code",
   "execution_count": 11,
   "id": "3af95b6a",
   "metadata": {},
   "outputs": [
    {
     "data": {
      "text/plain": [
       "False"
      ]
     },
     "execution_count": 11,
     "metadata": {},
     "output_type": "execute_result"
    }
   ],
   "source": [
    "isEquilateral(-3,-3,-3)"
   ]
  },
  {
   "cell_type": "code",
   "execution_count": 12,
   "id": "b8d630c4",
   "metadata": {},
   "outputs": [
    {
     "data": {
      "text/plain": [
       "True"
      ]
     },
     "execution_count": 12,
     "metadata": {},
     "output_type": "execute_result"
    }
   ],
   "source": [
    "isEquilateral(3,3,3)"
   ]
  },
  {
   "cell_type": "markdown",
   "id": "6a379618",
   "metadata": {},
   "source": [
    "#### For a quadratic equation in the form of ax2+bx+c, the discriminant, D is b2-4ac. Write a function to compute the discriminant, D.\n",
    "#### In - quadratic(1, 2, 3)\n",
    "#### Out - 'The discriminant is -8.'\n",
    "#### In - quadratic(1, 3, 2)\n",
    "#### Out - 'The discriminant is 1.'\n",
    "#### In - quadratic(1, 4, 4)\n",
    "#### Out - 'The discriminant is 0.'"
   ]
  },
  {
   "cell_type": "code",
   "execution_count": 17,
   "id": "2680c0ff",
   "metadata": {},
   "outputs": [],
   "source": [
    "def quadratic(a, b, c):\n",
    "    D = b**2 - 4*a*c\n",
    "    print(f'The discriminant is {D}.')\n",
    "    return f'The discriminant is {D}.'"
   ]
  },
  {
   "cell_type": "code",
   "execution_count": 18,
   "id": "6abb69a4",
   "metadata": {},
   "outputs": [
    {
     "name": "stdout",
     "output_type": "stream",
     "text": [
      "The discriminant is -8.\n",
      "The discriminant is 1.\n",
      "The discriminant is 0.\n"
     ]
    },
    {
     "data": {
      "text/plain": [
       "'The discriminant is 0.'"
      ]
     },
     "execution_count": 18,
     "metadata": {},
     "output_type": "execute_result"
    }
   ],
   "source": [
    "quadratic(1,2,3)\n",
    "quadratic(1,3,2)\n",
    "quadratic(1,4,4)"
   ]
  },
  {
   "cell_type": "markdown",
   "id": "66d0adb0",
   "metadata": {},
   "source": [
    "#### Define a function calls addFirstAndLast(x) that takes in a list of numbers and returns the sum of the first and last numbers.\n",
    "#### In - addFirstAndLast([])\n",
    "#### Out - 0\n",
    "#### In - addFirstAndLast([2, 7, 3])\n",
    "#### Out - 5\n",
    "#### In - addFirstAndLast([10])\n",
    "#### Out - 10\n",
    "\n",
    "def addFirstAndLast(lst):\n",
    "    pass\n",
    "\n",
    "addFirstAndLast([2,7,3])\n",
    "addFirstAndLast([])\n",
    "addFirstAndLast([10])"
   ]
  },
  {
   "cell_type": "code",
   "execution_count": 22,
   "id": "b078f0d2",
   "metadata": {},
   "outputs": [],
   "source": [
    "def addFirstAndLast(lst):\n",
    "    if len(lst) == 0:\n",
    "        return 0\n",
    "    elif len(lst) == 1:\n",
    "        return lst[0]\n",
    "    else:\n",
    "        return lst[0] + lst[-1]"
   ]
  },
  {
   "cell_type": "code",
   "execution_count": 24,
   "id": "f7e9d16f",
   "metadata": {},
   "outputs": [
    {
     "data": {
      "text/plain": [
       "0"
      ]
     },
     "execution_count": 24,
     "metadata": {},
     "output_type": "execute_result"
    }
   ],
   "source": [
    "addFirstAndLast([])"
   ]
  },
  {
   "cell_type": "code",
   "execution_count": 23,
   "id": "94b64d1f",
   "metadata": {},
   "outputs": [
    {
     "data": {
      "text/plain": [
       "5"
      ]
     },
     "execution_count": 23,
     "metadata": {},
     "output_type": "execute_result"
    }
   ],
   "source": [
    "addFirstAndLast([2,7,3])"
   ]
  },
  {
   "cell_type": "markdown",
   "id": "35e443b4",
   "metadata": {},
   "source": [
    "addFirstAndLast([10])"
   ]
  },
  {
   "cell_type": "markdown",
   "id": "ee9ced8c",
   "metadata": {},
   "source": [
    "####  Complete the 'lambda' expression so that it returns True if the argument is an even number, and False otherwise.\n",
    "\n",
    "(lambda num : ---------------------------------------)(6)"
   ]
  },
  {
   "cell_type": "code",
   "execution_count": 29,
   "id": "4fa10459",
   "metadata": {},
   "outputs": [
    {
     "data": {
      "text/plain": [
       "True"
      ]
     },
     "execution_count": 29,
     "metadata": {},
     "output_type": "execute_result"
    }
   ],
   "source": [
    "(lambda num: num % 2 == 0)(6)\n"
   ]
  },
  {
   "cell_type": "markdown",
   "id": "53651aa4",
   "metadata": {},
   "source": [
    "\n",
    "#### Get the documentation of below function\n",
    "\n",
    "def getScore():\n",
    "  ''''A function that computes and returns the final score.'''\n",
    "  pass"
   ]
  },
  {
   "cell_type": "code",
   "execution_count": 34,
   "id": "d1abc3e8",
   "metadata": {},
   "outputs": [],
   "source": [
    "def getScore(): \n",
    "    ''''A function that computes and returns the final score.''' \n",
    "    pass"
   ]
  },
  {
   "cell_type": "markdown",
   "id": "d3556046",
   "metadata": {},
   "source": [
    "#### In Python, it is possible to pass a function as a argument to another function. \n",
    "####  Write a function useFunction(func, num) that takes in a function and a number as arguments. \n",
    "####  The useFunction should produce the output shown in the examples given below.\n",
    "\n",
    "#####  def addOne(x):\n",
    "#####    return x + 1\n",
    "#####  useFunction(addOne, 4)\n",
    "#####  25\n",
    "#####  useFunction(addOne, 9)\n",
    "#####  100\n",
    "#####  useFunction(addOne, 0)\n",
    "#####  1\n",
    "\n",
    "\n",
    "\n"
   ]
  },
  {
   "cell_type": "code",
   "execution_count": 35,
   "id": "e3b3769f",
   "metadata": {},
   "outputs": [
    {
     "name": "stdout",
     "output_type": "stream",
     "text": [
      "25\n",
      "100\n",
      "1\n"
     ]
    }
   ],
   "source": [
    "def useFunction(func, num):\n",
    "    result = func(num)\n",
    "    return result ** 2\n",
    "\n",
    "def addOne(x):\n",
    "    return x + 1\n",
    "\n",
    "\n",
    "print(useFunction(addOne, 4))  \n",
    "print(useFunction(addOne, 9))  \n",
    "print(useFunction(addOne, 0)) \n"
   ]
  },
  {
   "cell_type": "markdown",
   "id": "aac98d24",
   "metadata": {},
   "source": [
    "#### Findout Odd even using Lambda and map.\n",
    "\n",
    "##### l=[2,4,5,655,6,20,432,34,84,820,37]"
   ]
  },
  {
   "cell_type": "code",
   "execution_count": 40,
   "id": "554df5f6",
   "metadata": {},
   "outputs": [
    {
     "name": "stdout",
     "output_type": "stream",
     "text": [
      "Even numbers: [2, 4, 6, 20, 432, 34, 84, 820]\n",
      "Odd numbers: [5, 655, 37]\n"
     ]
    }
   ],
   "source": [
    "l = [2, 4, 5, 655, 6, 20, 432, 34, 84, 820, 37]\n",
    "even = []\n",
    "odd = []\n",
    "\n",
    "def odd_even(x):\n",
    "    if x % 2 == 0:\n",
    "        even.append(x)\n",
    "    else:\n",
    "        odd.append(x)\n",
    "\n",
    "list(map(odd_even, l))\n",
    "\n",
    "print(\"Even numbers:\", even)\n",
    "print(\"Odd numbers:\", odd)\n"
   ]
  },
  {
   "cell_type": "code",
   "execution_count": null,
   "id": "baf6906f",
   "metadata": {},
   "outputs": [],
   "source": []
  },
  {
   "cell_type": "code",
   "execution_count": null,
   "id": "d23f8ff3",
   "metadata": {},
   "outputs": [],
   "source": []
  },
  {
   "cell_type": "code",
   "execution_count": null,
   "id": "d0f9a962",
   "metadata": {},
   "outputs": [],
   "source": []
  },
  {
   "cell_type": "code",
   "execution_count": null,
   "id": "ac51ba0f",
   "metadata": {},
   "outputs": [],
   "source": []
  },
  {
   "cell_type": "code",
   "execution_count": null,
   "id": "5572a32e",
   "metadata": {},
   "outputs": [],
   "source": []
  },
  {
   "cell_type": "code",
   "execution_count": null,
   "id": "92e69350",
   "metadata": {},
   "outputs": [],
   "source": []
  },
  {
   "cell_type": "code",
   "execution_count": null,
   "id": "f012911e",
   "metadata": {},
   "outputs": [],
   "source": []
  }
 ],
 "metadata": {
  "kernelspec": {
   "display_name": "Python 3 (ipykernel)",
   "language": "python",
   "name": "python3"
  },
  "language_info": {
   "codemirror_mode": {
    "name": "ipython",
    "version": 3
   },
   "file_extension": ".py",
   "mimetype": "text/x-python",
   "name": "python",
   "nbconvert_exporter": "python",
   "pygments_lexer": "ipython3",
   "version": "3.11.4"
  }
 },
 "nbformat": 4,
 "nbformat_minor": 5
}
