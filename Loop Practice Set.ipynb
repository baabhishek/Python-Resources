{
 "cells": [
  {
   "cell_type": "markdown",
   "id": "4e6ba643",
   "metadata": {},
   "source": [
    "### Q.1 W. A P. \n",
    "which takes one number from 0 to 9 from the user and prints\n",
    "it in the word. And if the word is not from 0 to 9 then\n",
    "it should print that number is outside of the range and program should\n",
    "exit.\n",
    "For exapmple:-\n",
    "input = 1\n",
    "output = one"
   ]
  },
  {
   "cell_type": "code",
   "execution_count": 11,
   "id": "28b4e5f5",
   "metadata": {},
   "outputs": [
    {
     "name": "stdout",
     "output_type": "stream",
     "text": [
      "Enter a number  : 4\n",
      "four\n"
     ]
    }
   ],
   "source": [
    "a = int(input(\"Enter a number  : \"))\n",
    "\n",
    "if a > 9 or a < 1:\n",
    "    print(f\"The number {a} is outside of the range\")\n",
    "else:\n",
    "    if a == 1:\n",
    "        print('one')\n",
    "    elif a == 2:\n",
    "        print('two')\n",
    "    elif a == 3:\n",
    "        print('three')\n",
    "    elif a == 4:\n",
    "        print('four')\n",
    "    elif a == 5:\n",
    "        print('five')\n",
    "    elif a == 6:\n",
    "        print('six')\n",
    "    elif a == 7:\n",
    "        print('seven')\n",
    "    elif a == 8:\n",
    "        print('eight')\n",
    "    elif a == 9:\n",
    "        print('nine')\n"
   ]
  },
  {
   "cell_type": "markdown",
   "id": "cafad0df",
   "metadata": {},
   "source": [
    "### Q2. W. A P. to implement \n",
    "calculator but the operation to be done and two\n",
    "numbers will be taken as input from user:-\n",
    "Operation console should show below:-\n",
    "Please select any one operation from below:-\n",
    "* To add enter 1\n",
    "* to subtract enter 2\n",
    "* To multiply enter 3\n",
    "* To divide enter 4\n",
    "* To divide and find quotient enter 5\n",
    "* To divide and find remainder enter 6\n",
    "* To divide and find num1 to the power of num2 enter 7\n",
    "* To Come out of the program enter 8"
   ]
  },
  {
   "cell_type": "code",
   "execution_count": 4,
   "id": "9a27dd2e",
   "metadata": {},
   "outputs": [
    {
     "name": "stdout",
     "output_type": "stream",
     "text": [
      "Please select any one operation from below:\n",
      "* To add enter 1\n",
      "* To subtract enter 2\n",
      "* To multiply enter 3\n",
      "* To divide enter 4\n",
      "* To divide and find quotient enter 5\n",
      "* To divide and find remainder enter 6\n",
      "* To find num1 to the power of num2 enter 7\n",
      "* To come out of the program enter 8\n",
      "Enter your choice: 4\n",
      "Enter first digit: 100\n",
      "Enter second digit: 2309\n",
      "Your Final Result is:  0.043308791684711995\n"
     ]
    }
   ],
   "source": [
    "print(\"Please select any one operation from below:\")\n",
    "print(\"* To add enter 1\")\n",
    "print(\"* To subtract enter 2\")\n",
    "print(\"* To multiply enter 3\")\n",
    "print(\"* To divide enter 4\")\n",
    "print(\"* To divide and find quotient enter 5\")\n",
    "print(\"* To divide and find remainder enter 6\")\n",
    "print(\"* To find num1 to the power of num2 enter 7\")\n",
    "print(\"* To come out of the program enter 8\")\n",
    "\n",
    "user_input = int(input(\"Enter your choice: \"))\n",
    "\n",
    "if user_input == 8:\n",
    "    print(\"Thank you: Exiting the program.\")\n",
    "else:\n",
    "    a = float(input(\"Enter first digit: \"))\n",
    "    b = float(input(\"Enter second digit: \"))\n",
    "\n",
    "    result = []\n",
    "\n",
    "    for i in range(1):\n",
    "        if user_input == 1:\n",
    "            result = a + b\n",
    "        elif user_input == 2:\n",
    "            result = a - b\n",
    "        elif user_input == 3:\n",
    "            result = a * b\n",
    "        elif user_input == 4:\n",
    "            result = a / b\n",
    "        elif user_input == 5:\n",
    "            result = a // b\n",
    "        elif user_input == 6:\n",
    "            result = a % b\n",
    "        elif user_input == 7:\n",
    "            result = a ** b\n",
    "        else:\n",
    "            print(\"Invalid input\")\n",
    "\n",
    "    print(\"Your Final Result is: \", result)\n"
   ]
  },
  {
   "cell_type": "markdown",
   "id": "38e45b02",
   "metadata": {},
   "source": [
    "### Q.3 W A P to check \n",
    "whether a year entered by user is an leap year or not?\n",
    "Check with below input:-\n",
    "leap year:- 2012, 1968, 2004, 1200, 1600,2400\n",
    "Non-leap year:- 1971, 2006, 1700,1800,1900"
   ]
  },
  {
   "cell_type": "code",
   "execution_count": 34,
   "id": "6d5c4237",
   "metadata": {},
   "outputs": [
    {
     "name": "stdout",
     "output_type": "stream",
     "text": [
      "Enter a year: 1900\n",
      "1900 is a leap year.\n"
     ]
    }
   ],
   "source": [
    "user_input = int(input(\"Enter a year: \"))\n",
    "\n",
    "if (user_input % 4 == 0):\n",
    "    print(user_input,  \"is a leap year.\")\n",
    "else:\n",
    "    print(user_input,  \"is not a leap year.\")\n"
   ]
  },
  {
   "cell_type": "markdown",
   "id": "afda755a",
   "metadata": {},
   "source": [
    "### Q.4. W A P \n",
    "which takes one number from the user and checks whether it is\n",
    "an even or odd number?, If it even then prints number is\n",
    "even number else prints that number is odd number."
   ]
  },
  {
   "cell_type": "code",
   "execution_count": null,
   "id": "6c18e85d",
   "metadata": {},
   "outputs": [],
   "source": [
    "a = int(input(\"Enter a number to check whether it's even or odd: \"))\n",
    "\n",
    "if a % 2 == 0:\n",
    "    print(f\"The number {a} is an even number.\")\n",
    "else:\n",
    "    print(f\"The number {a} is an odd number.\")\n"
   ]
  },
  {
   "cell_type": "markdown",
   "id": "da2ec7dd",
   "metadata": {},
   "source": [
    "### Q.5.  W A P \n",
    "which takes two numbers from the user and prints below output:-\n",
    "1. num1 is greater than num2 if num1 is greater than num2\n",
    "2. num1 is smaller than num2 if num1 is smaller than num2\n",
    "3. num1 is equal to num2 if num1 and num2 are equal\n",
    "\n",
    "Note:- 1. Do this problem using if - else\n",
    "2. Do this using ternary operator"
   ]
  },
  {
   "cell_type": "code",
   "execution_count": 46,
   "id": "bf3dc575",
   "metadata": {},
   "outputs": [
    {
     "name": "stdout",
     "output_type": "stream",
     "text": [
      "Enter the first number: 100\n",
      "Enter the second number: 200\n",
      "100 is smaller than 200\n"
     ]
    }
   ],
   "source": [
    "num1 = int(input(\"Enter the first number: \"))\n",
    "num2 = int(input(\"Enter the second number: \"))\n",
    "\n",
    "if num1 > num2:\n",
    "    print(f\"{num1} is greater than {num2}\")\n",
    "elif num1 < num2:\n",
    "    print(f\"{num1} is less than {num2}\")\n",
    "else:\n",
    "    print(f\"{num1} is equal to {num2}\")\n"
   ]
  },
  {
   "cell_type": "code",
   "execution_count": 50,
   "id": "f5aeeeb9",
   "metadata": {},
   "outputs": [
    {
     "name": "stdout",
     "output_type": "stream",
     "text": [
      "Enter the first number: 1\n",
      "Enter the second number: 1\n",
      "1 is equal to 1\n"
     ]
    }
   ],
   "source": [
    "num1 = int(input(\"Enter the first number: \"))\n",
    "num2 = int(input(\"Enter the second number: \"))\n",
    "\n",
    "output = (f\"{num1} is greater than {num2}\" if num1 > num2 else f\"{num1} is less than {num2}\" if num1 < num2 else\n",
    "          f\"{num1} is equal to {num2}\")\n",
    "\n",
    "print(output)"
   ]
  },
  {
   "cell_type": "markdown",
   "id": "5bfae73f",
   "metadata": {},
   "source": [
    "### Q. 6. \n",
    "W A P which takes three numbers from the user and prints below\n",
    "output:-\n",
    "1. num1 is greater than num2 and num3 if num1 is greater than num2 and num3\n",
    "2. num2 is greater than num1 and num3 if num2 is greater than num1 and num3\n",
    "3. num3 is greater than num1 and num2 if num3 is greater than num1 and num2\n",
    "Note:-\n",
    "1. Do this problem using if - elif - else\n",
    "2. Do this using ternary operator\n",
    "a = a if a>b else b"
   ]
  },
  {
   "cell_type": "code",
   "execution_count": 5,
   "id": "3f18681f",
   "metadata": {},
   "outputs": [
    {
     "name": "stdout",
     "output_type": "stream",
     "text": [
      "Enter the first number: 1\n",
      "Enter the second number: 2\n",
      "Enter the second number: 3\n",
      "num3 is greater than num1 and num2\n"
     ]
    }
   ],
   "source": [
    "#using if else elif\n",
    "\n",
    "num1 = int(input(\"Enter the first number: \"))\n",
    "num2 = int(input(\"Enter the second number: \"))\n",
    "num3 = int(input(\"Enter the second number: \"))\n",
    "    \n",
    "if num1 > num2 and num1 > num3:\n",
    "    print(\"num1 is greater than num2 and num3\")\n",
    "elif num2 > num1 and num2 > num3:\n",
    "    print(\"num2 is greater than num1 and num3\")\n",
    "else:\n",
    "    print(\"num3 is greater than num1 and num2\")"
   ]
  },
  {
   "cell_type": "code",
   "execution_count": 7,
   "id": "4384d002",
   "metadata": {},
   "outputs": [
    {
     "name": "stdout",
     "output_type": "stream",
     "text": [
      "Enter the first number: 2\n",
      "Enter the second number: 3\n",
      "Enter the third number: 4\n",
      "num3 is greater than num1 and num2\n"
     ]
    }
   ],
   "source": [
    "#using ternary operator\n",
    "\n",
    "num1 = float(input(\"Enter the first number: \"))\n",
    "num2 = float(input(\"Enter the second number: \"))\n",
    "num3 = float(input(\"Enter the third number: \"))\n",
    "\n",
    "\n",
    "result = (\"num1 is greater than num2 and num3\" if num1 > num2 and num1 > num3 else\n",
    "          \"num2 is greater than num1 and num3\" if num2 > num1 and num2 > num3 else\n",
    "          \"num3 is greater than num1 and num2\")\n",
    "\n",
    "print(result)\n"
   ]
  },
  {
   "cell_type": "markdown",
   "id": "b6925585",
   "metadata": {},
   "source": [
    "### Q. 7.\n",
    "\n",
    "Write a Python program to find the length of the my_str using loop:-\n",
    "\n",
    "Input:- 'Write a Python program to find the length of the my_str'\n",
    "\n",
    "Output:- 55"
   ]
  },
  {
   "cell_type": "code",
   "execution_count": 13,
   "id": "0c5a9c60",
   "metadata": {},
   "outputs": [
    {
     "name": "stdout",
     "output_type": "stream",
     "text": [
      "The length of the str is :  55\n"
     ]
    }
   ],
   "source": [
    "q= 'Write a Python program to find the length of the my_str'\n",
    "for i in q:\n",
    "    q7_ans= len(q)\n",
    "print('The length of the str is : ',q7_ans)"
   ]
  },
  {
   "cell_type": "markdown",
   "id": "00101185",
   "metadata": {},
   "source": [
    "### Q. 8.\n",
    "\n",
    "WAP to find the total number of times letter 'p'is appeared in the below string using loop:-\n",
    "\n",
    "Input:- 'peter piper picked a peck of pickled peppers.\\n'\n",
    "\n",
    "Output:- 9"
   ]
  },
  {
   "cell_type": "code",
   "execution_count": 18,
   "id": "d032b993",
   "metadata": {},
   "outputs": [
    {
     "name": "stdout",
     "output_type": "stream",
     "text": [
      "The total number of times letter 'p'is appeared in the string is:  9\n"
     ]
    }
   ],
   "source": [
    "q= 'peter piper picked a peck of pickled peppers.\\n'\n",
    "\n",
    "no_of_P= 0\n",
    "\n",
    "for i in q:\n",
    "    if i == 'p':\n",
    "        no_of_P = no_of_P+1\n",
    "print(\"The total number of times letter 'p'is appeared in the string is: \", no_of_P)\n",
    "        \n"
   ]
  },
  {
   "cell_type": "markdown",
   "id": "bda367b0",
   "metadata": {},
   "source": [
    "### Q. 9.\n",
    "\n",
    "WAP, to print all the indexes of all occurences of letter 'p' appeared in the string using loop:-\n",
    "\n",
    "Input:- 'peter piper picked a peck of pickled peppers.'\n",
    "\n",
    "Output:-\n",
    "0\n",
    "6\n",
    "8\n",
    "12\n",
    "21\n",
    "29\n",
    "37\n",
    "39\n",
    "40"
   ]
  },
  {
   "cell_type": "code",
   "execution_count": 35,
   "id": "9f680cfa",
   "metadata": {},
   "outputs": [
    {
     "name": "stdout",
     "output_type": "stream",
     "text": [
      "1->P index no. is  0\n",
      "2->P index no. is  6\n",
      "3->P index no. is  8\n",
      "4->P index no. is  12\n",
      "5->P index no. is  21\n",
      "6->P index no. is  29\n",
      "7->P index no. is  37\n",
      "8->P index no. is  39\n",
      "9->P index no. is  40\n"
     ]
    }
   ],
   "source": [
    "#using enumerate()\n",
    "q= 'peter piper picked a peck of pickled peppers.'\n",
    "occ_p= 0\n",
    "\n",
    "for i,j in enumerate(q):\n",
    "    if j=='p':\n",
    "        occ_p = occ_p+ 1\n",
    "        print(f'{occ_p}->P index no. is  {i}')"
   ]
  },
  {
   "cell_type": "markdown",
   "id": "a5338724",
   "metadata": {},
   "source": [
    "### Q. 10.\n",
    "\n",
    "Write a python program to find below output using loop:-\n",
    "\n",
    "Input:- 'peter piper picked a peck of pickled peppers.'\n",
    "\n",
    "Output:- ['peter', 'piper', 'picked', 'a', 'peck', 'of', 'pickled',\n",
    "'peppers']"
   ]
  },
  {
   "cell_type": "code",
   "execution_count": 49,
   "id": "0e9ccb9a",
   "metadata": {},
   "outputs": [
    {
     "name": "stdout",
     "output_type": "stream",
     "text": [
      "['peter', 'piper', 'picked', 'a', 'peck', 'of', 'pickled', 'peppers']\n"
     ]
    }
   ],
   "source": [
    "q = 'peter piper picked a peck of pickled peppers.'\n",
    "\n",
    "words = []\n",
    "current_word = ''\n",
    "\n",
    "for i in q:\n",
    "    if i == ' ' or i == '.':\n",
    "        if current_word:\n",
    "            words.append(current_word)\n",
    "            current_word = ''  \n",
    "    else:\n",
    "        current_word =current_word + i  \n",
    "\n",
    "if current_word:\n",
    "    words.append(current_word)\n",
    "\n",
    "print(words)\n"
   ]
  },
  {
   "cell_type": "markdown",
   "id": "8c6bca48",
   "metadata": {},
   "source": [
    "### Q. 11.\n",
    "\n",
    "Write a python program to find below output using loop:-\n",
    "\n",
    "Input:- 'peter piper picked a peck of pickled peppers.'\n",
    "\n",
    "Output:-'peppers pickled of peck a picked piper peter'"
   ]
  },
  {
   "cell_type": "code",
   "execution_count": 67,
   "id": "5394a9d1",
   "metadata": {},
   "outputs": [
    {
     "name": "stdout",
     "output_type": "stream",
     "text": [
      "peppers pickled of peck a picked piper peter\n"
     ]
    }
   ],
   "source": [
    "q = 'peter piper picked a peck of pickled peppers.'\n",
    "q = q.replace('.', '')\n",
    "\n",
    "i = q.split()\n",
    "rev_words = []\n",
    "\n",
    "\n",
    "\n",
    "for i in reversed(i):\n",
    "    rev_words.append(i)\n",
    "\n",
    "res = ' '.join(rev_words)\n",
    "\n",
    "\n",
    "print(res)\n",
    "\n",
    "    "
   ]
  },
  {
   "cell_type": "markdown",
   "id": "6c8beb92",
   "metadata": {},
   "source": [
    "### Q. 12.\n",
    "\n",
    "Write a python program to find below output using loop:-\n",
    "\n",
    "Input:- 'peter piper picked a peck of pickled peppers.'\n",
    "\n",
    "Output:- '.sreppep delkcip fo kcep a dekcip repip retep'"
   ]
  },
  {
   "cell_type": "code",
   "execution_count": 77,
   "id": "892dc587",
   "metadata": {},
   "outputs": [
    {
     "name": "stdout",
     "output_type": "stream",
     "text": [
      "sreppep delkcip fo kcep a dekcip repip retep\n"
     ]
    }
   ],
   "source": [
    "q = 'peter piper picked a peck of pickled peppers.'\n",
    "\n",
    "rev_word= ''\n",
    "\n",
    "for i in reversed (q):\n",
    "    rev_word= rev_word +i.strip('.')\n",
    "\n",
    "print(rev_word)\n",
    "    \n"
   ]
  },
  {
   "cell_type": "markdown",
   "id": "3daa305f",
   "metadata": {},
   "source": [
    "### Q. 13.\n",
    "\n",
    "Write a python program to find below output using loop:-\n",
    "\n",
    "Input:- 'peter piper picked a peck of pickled peppers.'\n",
    "\n",
    "Output:- 'retep repip dekcip a kcep fo delkcip sreppep'"
   ]
  },
  {
   "cell_type": "code",
   "execution_count": 98,
   "id": "98742d59",
   "metadata": {},
   "outputs": [
    {
     "name": "stdout",
     "output_type": "stream",
     "text": [
      "retep repip dekcip a kcep fo delkcip sreppep\n"
     ]
    }
   ],
   "source": [
    "q= 'peter piper picked a peck of pickled peppers.'\n",
    "\n",
    "words = q.split()\n",
    "rev_words = []\n",
    "\n",
    "for i in words:\n",
    "    rev_w = i[::-1].strip('.')\n",
    "    rev_words.append(rev_w)\n",
    "    \n",
    "res = ' '.join(rev_words)  \n",
    "print(res)\n",
    "    \n",
    "    \n",
    "\n"
   ]
  },
  {
   "cell_type": "markdown",
   "id": "3ef84651",
   "metadata": {},
   "source": [
    "### Q. 14.\n",
    "\n",
    "Write a python program to find below output using loop:-\n",
    "\n",
    "Input:- 'peter piper picked a peck of pickled peppers.'\n",
    "\n",
    "Output:- 'Peter Piper Picked A Peck Of Pickled Peppers'"
   ]
  },
  {
   "cell_type": "code",
   "execution_count": 109,
   "id": "fad9adde",
   "metadata": {},
   "outputs": [
    {
     "name": "stdout",
     "output_type": "stream",
     "text": [
      "Peter Piper Picked A Peck Of Pickled Peppers.\n"
     ]
    }
   ],
   "source": [
    "q = 'peter piper picked a peck of pickled peppers.'\n",
    "\n",
    "words= q.split()\n",
    "cap_word=[]\n",
    "\n",
    "for i in words:\n",
    "    cap_word.append(i.capitalize())\n",
    "\n",
    "res= ' '.join(cap_word)\n",
    "print(res)\n"
   ]
  },
  {
   "cell_type": "markdown",
   "id": "c23be0a4",
   "metadata": {},
   "source": [
    "### Q. 14.\n",
    "\n",
    "Write a python program to find below output using loop:-\n",
    "\n",
    "Input:- 'Peter Piper Picked A Peck Of Pickled Peppers.'\n",
    "\n",
    "Output:- 'Peter piper picked a peck of pickled peppers'"
   ]
  },
  {
   "cell_type": "code",
   "execution_count": 117,
   "id": "4926a1b1",
   "metadata": {},
   "outputs": [
    {
     "name": "stdout",
     "output_type": "stream",
     "text": [
      "Peter piper picked a peck of pickled peppers.\n"
     ]
    }
   ],
   "source": [
    "q= 'Peter Piper Picked A Peck Of Pickled Peppers.'\n",
    "\n",
    "words= q.split()\n",
    "first_caps_words= []\n",
    "\n",
    "for i , j in enumerate(words):\n",
    "    if i==0:\n",
    "        first_caps_words.append(j.capitalize())\n",
    "    else:\n",
    "        first_caps_words.append(j.lower())\n",
    "\n",
    "res= ' '.join(first_caps_words)\n",
    "print(res)"
   ]
  },
  {
   "cell_type": "markdown",
   "id": "fef6203b",
   "metadata": {},
   "source": [
    "### Q. 15.\n",
    "\n",
    "Write a python program to implement index method using loop. If\n",
    "sub_str is found in my_str then it will print the index\n",
    "of first occurrence of first character of matching string in my_str:-\n",
    "\n",
    "Input:- my_str = 'Peter Piper Picked A Peck Of Pickled Peppers.',\n",
    "sub_str = 'Pickl'\n",
    "\n",
    "Output:- 29"
   ]
  },
  {
   "cell_type": "code",
   "execution_count": 4,
   "id": "a9b7248e",
   "metadata": {},
   "outputs": [
    {
     "name": "stdout",
     "output_type": "stream",
     "text": [
      "29\n"
     ]
    }
   ],
   "source": [
    "my_str = 'Peter Piper Picked A Peck Of Pickled Peppers.' \n",
    "sub_str = 'Pickl'\n",
    "\n",
    "for i in range(0,len(my_str)):\n",
    "    if my_str[i:i+len(sub_str)] == sub_str:\n",
    "        print(i)\n",
    "\n"
   ]
  },
  {
   "cell_type": "markdown",
   "id": "a12bb645",
   "metadata": {},
   "source": [
    "### Q. 16.\n",
    "\n",
    "Write a python program to find below output (implements rjust and\n",
    "ljust) using loop:-\n",
    "\n",
    "Input:- 'Peter Piper Picked A Peck Of Pickled Peppers.', sub_str =\n",
    "'Peck',\n",
    "Output:- '*********************Peck********************'"
   ]
  },
  {
   "cell_type": "code",
   "execution_count": null,
   "id": "8f29189f",
   "metadata": {},
   "outputs": [],
   "source": []
  },
  {
   "cell_type": "markdown",
   "id": "6bf3015a",
   "metadata": {},
   "source": [
    "### Q. 17.\n",
    "\n",
    "Write a python program to find below output using loop:-\n",
    "\n",
    "Input:- 'This is Python class', sep = ' is',\n",
    "\n",
    "Output:- ['This', 'is', 'Python class']"
   ]
  },
  {
   "cell_type": "code",
   "execution_count": 8,
   "id": "0f5f47f5",
   "metadata": {},
   "outputs": [
    {
     "name": "stdout",
     "output_type": "stream",
     "text": [
      "['This', 'is', 'Python class']\n"
     ]
    }
   ],
   "source": [
    "q= 'This is Python class'\n",
    "sep = 'is'\n",
    "word=''\n",
    "output=[]\n",
    "\n",
    "for i in q:\n",
    "    if i != ' ':\n",
    "        word+=i\n",
    "    else:\n",
    "        if sep not in output:\n",
    "            output +=[word]\n",
    "            word=''\n",
    "        else:\n",
    "            word=word+' '\n",
    "output+=[word.strip()]\n",
    "print(output)\n",
    "    "
   ]
  },
  {
   "cell_type": "code",
   "execution_count": null,
   "id": "c8062bec",
   "metadata": {},
   "outputs": [],
   "source": []
  }
 ],
 "metadata": {
  "kernelspec": {
   "display_name": "Python 3 (ipykernel)",
   "language": "python",
   "name": "python3"
  },
  "language_info": {
   "codemirror_mode": {
    "name": "ipython",
    "version": 3
   },
   "file_extension": ".py",
   "mimetype": "text/x-python",
   "name": "python",
   "nbconvert_exporter": "python",
   "pygments_lexer": "ipython3",
   "version": "3.11.4"
  }
 },
 "nbformat": 4,
 "nbformat_minor": 5
}
