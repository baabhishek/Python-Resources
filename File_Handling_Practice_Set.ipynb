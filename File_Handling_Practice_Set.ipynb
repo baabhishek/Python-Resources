{
 "cells": [
  {
   "cell_type": "markdown",
   "id": "9e621b04",
   "metadata": {},
   "source": [
    "###### Write a Python program to read a file line by line and store it into a list"
   ]
  },
  {
   "cell_type": "code",
   "execution_count": 19,
   "id": "b3191b60",
   "metadata": {},
   "outputs": [
    {
     "data": {
      "text/plain": [
       "['The Journey of an Analyst: The Story of Maya\\n',\n",
       " 'Maya always had a knack for numbers. As a child, she found joy in solving puzzles and playing with data, whether it was counting the number of stars she could see on a clear night or figuring out how to distribute her candies evenly among her friends. Little did she know that her passion for patterns and problem-solving would one day shape her career.\\n',\n",
       " '\\n',\n",
       " 'The Beginning\\n',\n",
       " 'Maya grew up in a small town where opportunities were limited. Despite the odds, her parents encouraged her curiosity and love for learning. She excelled in school, particularly in mathematics and science, which earned her a scholarship to a prestigious university where she pursued a degree in Data Science.\\n',\n",
       " '\\n',\n",
       " 'College Days\\n',\n",
       " 'During her college years, Maya was introduced to the world of data analytics. She learned about various statistical techniques, machine learning algorithms, and tools like Python, R, and SQL. She was particularly fascinated by how data could tell a story and drive decisions. Maya spent countless hours working on projects, participating in hackathons, and interning at local companies to gain practical experience.\\n',\n",
       " '\\n',\n",
       " 'The First Job\\n',\n",
       " 'After graduation, Maya landed her first job as a Junior Data Analyst at a growing tech startup. The company was developing a new product, and Maya was tasked with analyzing user data to help improve the user experience. She quickly realized that her work could directly impact the success of the product and the company.\\n',\n",
       " '\\n',\n",
       " \"Maya's days were filled with extracting, cleaning, and analyzing data. She used her skills to identify trends and patterns that were not immediately obvious. For example, she discovered that users in a particular demographic were more likely to engage with certain features of the product. Her insights helped the product team make informed decisions about where to focus their efforts.\\n\",\n",
       " '\\n',\n",
       " 'Rising Through the Ranks\\n',\n",
       " \"Maya's dedication and ability to turn data into actionable insights did not go unnoticed. She was promoted to Data Analyst, and later, Senior Data Analyst. In her new role, she took on more responsibilities, leading a small team of analysts and working closely with other departments such as marketing, sales, and finance.\\n\",\n",
       " '\\n',\n",
       " \"One of Maya's significant achievements was spearheading a project to develop a customer segmentation model. By analyzing customer behavior and preferences, her team was able to create targeted marketing campaigns that significantly increased the company's revenue. Maya's work was instrumental in helping the company grow and expand its customer base.\\n\",\n",
       " '\\n',\n",
       " 'The Challenge\\n',\n",
       " 'Despite her success, Maya faced a significant challenge. The company was preparing for a major product launch, and the CEO needed a comprehensive analysis to understand the potential market impact. The deadline was tight, and the stakes were high.\\n',\n",
       " '\\n',\n",
       " \"Maya and her team worked around the clock, analyzing vast amounts of data from various sources. They used advanced analytics techniques, such as predictive modeling and sentiment analysis, to provide a detailed report. The final presentation was a success, and the insights gained from Maya's analysis helped the company make strategic decisions that led to a successful product launch.\\n\",\n",
       " '\\n',\n",
       " 'Giving Back\\n',\n",
       " \"As Maya's career flourished, she never forgot her roots. She started mentoring students from her hometown, sharing her journey and encouraging them to pursue careers in data analytics. Maya also became an advocate for diversity in tech, working with organizations to promote STEM education for young girls.\\n\",\n",
       " '\\n',\n",
       " 'The Present\\n',\n",
       " \"Today, Maya is a Chief Data Officer at a leading tech firm. She continues to push the boundaries of what's possible with data, driving innovation and making a positive impact on the world. Maya's story is a testament to the power of curiosity, hard work, and perseverance.\\n\",\n",
       " '\\n',\n",
       " \"Her journey from a small-town girl with a passion for numbers to a respected leader in the field of data analytics is an inspiration to many. Maya's story reminds us that with determination and the right support, anyone can achieve their dreams and make a difference.\\n\",\n",
       " '\\n',\n",
       " 'Conclusion\\n',\n",
       " \"Maya's story is a compelling narrative of an analyst's journey. It highlights the challenges and triumphs faced along the way and emphasizes the importance of continuous learning and giving back to the community.\"]"
      ]
     },
     "execution_count": 19,
     "metadata": {},
     "output_type": "execute_result"
    }
   ],
   "source": [
    "q1= open('File_Handling/read_file','r')\n",
    "q1.readlines()"
   ]
  },
  {
   "cell_type": "code",
   "execution_count": 21,
   "id": "dc0dbd43",
   "metadata": {},
   "outputs": [
    {
     "name": "stdout",
     "output_type": "stream",
     "text": [
      "['The Journey of an Analyst: The Story of Maya', 'Maya always had a knack for numbers. As a child, she found joy in solving puzzles and playing with data, whether it was counting the number of stars she could see on a clear night or figuring out how to distribute her candies evenly among her friends. Little did she know that her passion for patterns and problem-solving would one day shape her career.', '', 'The Beginning', 'Maya grew up in a small town where opportunities were limited. Despite the odds, her parents encouraged her curiosity and love for learning. She excelled in school, particularly in mathematics and science, which earned her a scholarship to a prestigious university where she pursued a degree in Data Science.', '', 'College Days', 'During her college years, Maya was introduced to the world of data analytics. She learned about various statistical techniques, machine learning algorithms, and tools like Python, R, and SQL. She was particularly fascinated by how data could tell a story and drive decisions. Maya spent countless hours working on projects, participating in hackathons, and interning at local companies to gain practical experience.', '', 'The First Job', 'After graduation, Maya landed her first job as a Junior Data Analyst at a growing tech startup. The company was developing a new product, and Maya was tasked with analyzing user data to help improve the user experience. She quickly realized that her work could directly impact the success of the product and the company.', '', \"Maya's days were filled with extracting, cleaning, and analyzing data. She used her skills to identify trends and patterns that were not immediately obvious. For example, she discovered that users in a particular demographic were more likely to engage with certain features of the product. Her insights helped the product team make informed decisions about where to focus their efforts.\", '', 'Rising Through the Ranks', \"Maya's dedication and ability to turn data into actionable insights did not go unnoticed. She was promoted to Data Analyst, and later, Senior Data Analyst. In her new role, she took on more responsibilities, leading a small team of analysts and working closely with other departments such as marketing, sales, and finance.\", '', \"One of Maya's significant achievements was spearheading a project to develop a customer segmentation model. By analyzing customer behavior and preferences, her team was able to create targeted marketing campaigns that significantly increased the company's revenue. Maya's work was instrumental in helping the company grow and expand its customer base.\", '', 'The Challenge', 'Despite her success, Maya faced a significant challenge. The company was preparing for a major product launch, and the CEO needed a comprehensive analysis to understand the potential market impact. The deadline was tight, and the stakes were high.', '', \"Maya and her team worked around the clock, analyzing vast amounts of data from various sources. They used advanced analytics techniques, such as predictive modeling and sentiment analysis, to provide a detailed report. The final presentation was a success, and the insights gained from Maya's analysis helped the company make strategic decisions that led to a successful product launch.\", '', 'Giving Back', \"As Maya's career flourished, she never forgot her roots. She started mentoring students from her hometown, sharing her journey and encouraging them to pursue careers in data analytics. Maya also became an advocate for diversity in tech, working with organizations to promote STEM education for young girls.\", '', 'The Present', \"Today, Maya is a Chief Data Officer at a leading tech firm. She continues to push the boundaries of what's possible with data, driving innovation and making a positive impact on the world. Maya's story is a testament to the power of curiosity, hard work, and perseverance.\", '', \"Her journey from a small-town girl with a passion for numbers to a respected leader in the field of data analytics is an inspiration to many. Maya's story reminds us that with determination and the right support, anyone can achieve their dreams and make a difference.\", '', 'Conclusion', \"Maya's story is a compelling narrative of an analyst's journey. It highlights the challenges and triumphs faced along the way and emphasizes the importance of continuous learning and giving back to the community.\"]\n"
     ]
    }
   ],
   "source": [
    "\n",
    "file_path = 'File_Handling/read_file'\n",
    "\n",
    "lines_list = []\n",
    "\n",
    "with open(file_path, 'r') as file:\n",
    "    while True:\n",
    "        line = file.readline()\n",
    "        if not line:\n",
    "            break\n",
    "        lines_list.append(line.strip())  \n",
    "\n",
    "print(lines_list)"
   ]
  },
  {
   "cell_type": "markdown",
   "id": "fbbe4f0c",
   "metadata": {},
   "source": [
    "###### Write a Python program to extract characters from various text files and puts them into a list."
   ]
  },
  {
   "cell_type": "code",
   "execution_count": 28,
   "id": "4e78f0e8",
   "metadata": {},
   "outputs": [],
   "source": [
    "files= ['File_Handling/read_file',\n",
    "        'File_Handling/rhymes',\n",
    "         'File_Handling/Jingle_bells']\n"
   ]
  },
  {
   "cell_type": "code",
   "execution_count": 29,
   "id": "70e30f50",
   "metadata": {},
   "outputs": [
    {
     "name": "stdout",
     "output_type": "stream",
     "text": [
      "['T', 'h', 'e', ' ', 'J', 'o', 'u', 'r', 'n', 'e', 'y', ' ', 'o', 'f', ' ', 'a', 'n', ' ', 'A', 'n', 'a', 'l', 'y', 's', 't', ':', ' ', 'T', 'h', 'e', ' ', 'S', 't', 'o', 'r', 'y', ' ', 'o', 'f', ' ', 'M', 'a', 'y', 'a', 'M', 'a', 'y', 'a', ' ', 'a', 'l', 'w', 'a', 'y', 's', ' ', 'h', 'a', 'd', ' ', 'a', ' ', 'k', 'n', 'a', 'c', 'k', ' ', 'f', 'o', 'r', ' ', 'n', 'u', 'm', 'b', 'e', 'r', 's', '.', ' ', 'A', 's', ' ', 'a', ' ', 'c', 'h', 'i', 'l', 'd', ',', ' ', 's', 'h', 'e', ' ', 'f', 'o', 'u', 'n', 'd', ' ', 'j', 'o', 'y', ' ', 'i', 'n', ' ', 's', 'o', 'l', 'v', 'i', 'n', 'g', ' ', 'p', 'u', 'z', 'z', 'l', 'e', 's', ' ', 'a', 'n', 'd', ' ', 'p', 'l', 'a', 'y', 'i', 'n', 'g', ' ', 'w', 'i', 't', 'h', ' ', 'd', 'a', 't', 'a', ',', ' ', 'w', 'h', 'e', 't', 'h', 'e', 'r', ' ', 'i', 't', ' ', 'w', 'a', 's', ' ', 'c', 'o', 'u', 'n', 't', 'i', 'n', 'g', ' ', 't', 'h', 'e', ' ', 'n', 'u', 'm', 'b', 'e', 'r', ' ', 'o', 'f', ' ', 's', 't', 'a', 'r', 's', ' ', 's', 'h', 'e', ' ', 'c', 'o', 'u', 'l', 'd', ' ', 's', 'e', 'e', ' ', 'o', 'n', ' ', 'a', ' ', 'c', 'l', 'e', 'a', 'r', ' ', 'n', 'i', 'g', 'h', 't', ' ', 'o', 'r', ' ', 'f', 'i', 'g', 'u', 'r', 'i', 'n', 'g', ' ', 'o', 'u', 't', ' ', 'h', 'o', 'w', ' ', 't', 'o', ' ', 'd', 'i', 's', 't', 'r', 'i', 'b', 'u', 't', 'e', ' ', 'h', 'e', 'r', ' ', 'c', 'a', 'n', 'd', 'i', 'e', 's', ' ', 'e', 'v', 'e', 'n', 'l', 'y', ' ', 'a', 'm', 'o', 'n', 'g', ' ', 'h', 'e', 'r', ' ', 'f', 'r', 'i', 'e', 'n', 'd', 's', '.', ' ', 'L', 'i', 't', 't', 'l', 'e', ' ', 'd', 'i', 'd', ' ', 's', 'h', 'e', ' ', 'k', 'n', 'o', 'w', ' ', 't', 'h', 'a', 't', ' ', 'h', 'e', 'r', ' ', 'p', 'a', 's', 's', 'i', 'o', 'n', ' ', 'f', 'o', 'r', ' ', 'p', 'a', 't', 't', 'e', 'r', 'n', 's', ' ', 'a', 'n', 'd', ' ', 'p', 'r', 'o', 'b', 'l', 'e', 'm', '-', 's', 'o', 'l', 'v', 'i', 'n', 'g', ' ', 'w', 'o', 'u', 'l', 'd', ' ', 'o', 'n', 'e', ' ', 'd', 'a', 'y', ' ', 's', 'h', 'a', 'p', 'e', ' ', 'h', 'e', 'r', ' ', 'c', 'a', 'r', 'e', 'e', 'r', '.', 'T', 'h', 'e', ' ', 'B', 'e', 'g', 'i', 'n', 'n', 'i', 'n', 'g', 'M', 'a', 'y', 'a', ' ', 'g', 'r', 'e', 'w', ' ', 'u', 'p', ' ', 'i', 'n', ' ', 'a', ' ', 's', 'm', 'a', 'l', 'l', ' ', 't', 'o', 'w', 'n', ' ', 'w', 'h', 'e', 'r', 'e', ' ', 'o', 'p', 'p', 'o', 'r', 't', 'u', 'n', 'i', 't', 'i', 'e', 's', ' ', 'w', 'e', 'r', 'e', ' ', 'l', 'i', 'm', 'i', 't', 'e', 'd', '.', ' ', 'D', 'e', 's', 'p', 'i', 't', 'e', ' ', 't', 'h', 'e', ' ', 'o', 'd', 'd', 's', ',', ' ', 'h', 'e', 'r', ' ', 'p', 'a', 'r', 'e', 'n', 't', 's', ' ', 'e', 'n', 'c', 'o', 'u', 'r', 'a', 'g', 'e', 'd', ' ', 'h', 'e', 'r', ' ', 'c', 'u', 'r', 'i', 'o', 's', 'i', 't', 'y', ' ', 'a', 'n', 'd', ' ', 'l', 'o', 'v', 'e', ' ', 'f', 'o', 'r', ' ', 'l', 'e', 'a', 'r', 'n', 'i', 'n', 'g', '.', ' ', 'S', 'h', 'e', ' ', 'e', 'x', 'c', 'e', 'l', 'l', 'e', 'd', ' ', 'i', 'n', ' ', 's', 'c', 'h', 'o', 'o', 'l', ',', ' ', 'p', 'a', 'r', 't', 'i', 'c', 'u', 'l', 'a', 'r', 'l', 'y', ' ', 'i', 'n', ' ', 'm', 'a', 't', 'h', 'e', 'm', 'a', 't', 'i', 'c', 's', ' ', 'a', 'n', 'd', ' ', 's', 'c', 'i', 'e', 'n', 'c', 'e', ',', ' ', 'w', 'h', 'i', 'c', 'h', ' ', 'e', 'a', 'r', 'n', 'e', 'd', ' ', 'h', 'e', 'r', ' ', 'a', ' ', 's', 'c', 'h', 'o', 'l', 'a', 'r', 's', 'h', 'i', 'p', ' ', 't', 'o', ' ', 'a', ' ', 'p', 'r', 'e', 's', 't', 'i', 'g', 'i', 'o', 'u', 's', ' ', 'u', 'n', 'i', 'v', 'e', 'r', 's', 'i', 't', 'y', ' ', 'w', 'h', 'e', 'r', 'e', ' ', 's', 'h', 'e', ' ', 'p', 'u', 'r', 's', 'u', 'e', 'd', ' ', 'a', ' ', 'd', 'e', 'g', 'r', 'e', 'e', ' ', 'i', 'n', ' ', 'D', 'a', 't', 'a', ' ', 'S', 'c', 'i', 'e', 'n', 'c', 'e', '.', 'C', 'o', 'l', 'l', 'e', 'g', 'e', ' ', 'D', 'a', 'y', 's', 'D', 'u', 'r', 'i', 'n', 'g', ' ', 'h', 'e', 'r', ' ', 'c', 'o', 'l', 'l', 'e', 'g', 'e', ' ', 'y', 'e', 'a', 'r', 's', ',', ' ', 'M', 'a', 'y', 'a', ' ', 'w', 'a', 's', ' ', 'i', 'n', 't', 'r', 'o', 'd', 'u', 'c', 'e', 'd', ' ', 't', 'o', ' ', 't', 'h', 'e', ' ', 'w', 'o', 'r', 'l', 'd', ' ', 'o', 'f', ' ', 'd', 'a', 't', 'a', ' ', 'a', 'n', 'a', 'l', 'y', 't', 'i', 'c', 's', '.', ' ', 'S', 'h', 'e', ' ', 'l', 'e', 'a', 'r', 'n', 'e', 'd', ' ', 'a', 'b', 'o', 'u', 't', ' ', 'v', 'a', 'r', 'i', 'o', 'u', 's', ' ', 's', 't', 'a', 't', 'i', 's', 't', 'i', 'c', 'a', 'l', ' ', 't', 'e', 'c', 'h', 'n', 'i', 'q', 'u', 'e', 's', ',', ' ', 'm', 'a', 'c', 'h', 'i', 'n', 'e', ' ', 'l', 'e', 'a', 'r', 'n', 'i', 'n', 'g', ' ', 'a', 'l', 'g', 'o', 'r', 'i', 't', 'h', 'm', 's', ',', ' ', 'a', 'n', 'd', ' ', 't', 'o', 'o', 'l', 's', ' ', 'l', 'i', 'k', 'e', ' ', 'P', 'y', 't', 'h', 'o', 'n', ',', ' ', 'R', ',', ' ', 'a', 'n', 'd', ' ', 'S', 'Q', 'L', '.', ' ', 'S', 'h', 'e', ' ', 'w', 'a', 's', ' ', 'p', 'a', 'r', 't', 'i', 'c', 'u', 'l', 'a', 'r', 'l', 'y', ' ', 'f', 'a', 's', 'c', 'i', 'n', 'a', 't', 'e', 'd', ' ', 'b', 'y', ' ', 'h', 'o', 'w', ' ', 'd', 'a', 't', 'a', ' ', 'c', 'o', 'u', 'l', 'd', ' ', 't', 'e', 'l', 'l', ' ', 'a', ' ', 's', 't', 'o', 'r', 'y', ' ', 'a', 'n', 'd', ' ', 'd', 'r', 'i', 'v', 'e', ' ', 'd', 'e', 'c', 'i', 's', 'i', 'o', 'n', 's', '.', ' ', 'M', 'a', 'y', 'a', ' ', 's', 'p', 'e', 'n', 't', ' ', 'c', 'o', 'u', 'n', 't', 'l', 'e', 's', 's', ' ', 'h', 'o', 'u', 'r', 's', ' ', 'w', 'o', 'r', 'k', 'i', 'n', 'g', ' ', 'o', 'n', ' ', 'p', 'r', 'o', 'j', 'e', 'c', 't', 's', ',', ' ', 'p', 'a', 'r', 't', 'i', 'c', 'i', 'p', 'a', 't', 'i', 'n', 'g', ' ', 'i', 'n', ' ', 'h', 'a', 'c', 'k', 'a', 't', 'h', 'o', 'n', 's', ',', ' ', 'a', 'n', 'd', ' ', 'i', 'n', 't', 'e', 'r', 'n', 'i', 'n', 'g', ' ', 'a', 't', ' ', 'l', 'o', 'c', 'a', 'l', ' ', 'c', 'o', 'm', 'p', 'a', 'n', 'i', 'e', 's', ' ', 't', 'o', ' ', 'g', 'a', 'i', 'n', ' ', 'p', 'r', 'a', 'c', 't', 'i', 'c', 'a', 'l', ' ', 'e', 'x', 'p', 'e', 'r', 'i', 'e', 'n', 'c', 'e', '.', 'T', 'h', 'e', ' ', 'F', 'i', 'r', 's', 't', ' ', 'J', 'o', 'b', 'A', 'f', 't', 'e', 'r', ' ', 'g', 'r', 'a', 'd', 'u', 'a', 't', 'i', 'o', 'n', ',', ' ', 'M', 'a', 'y', 'a', ' ', 'l', 'a', 'n', 'd', 'e', 'd', ' ', 'h', 'e', 'r', ' ', 'f', 'i', 'r', 's', 't', ' ', 'j', 'o', 'b', ' ', 'a', 's', ' ', 'a', ' ', 'J', 'u', 'n', 'i', 'o', 'r', ' ', 'D', 'a', 't', 'a', ' ', 'A', 'n', 'a', 'l', 'y', 's', 't', ' ', 'a', 't', ' ', 'a', ' ', 'g', 'r', 'o', 'w', 'i', 'n', 'g', ' ', 't', 'e', 'c', 'h', ' ', 's', 't', 'a', 'r', 't', 'u', 'p', '.', ' ', 'T', 'h', 'e', ' ', 'c', 'o', 'm', 'p', 'a', 'n', 'y', ' ', 'w', 'a', 's', ' ', 'd', 'e', 'v', 'e', 'l', 'o', 'p', 'i', 'n', 'g', ' ', 'a', ' ', 'n', 'e', 'w', ' ', 'p', 'r', 'o', 'd', 'u', 'c', 't', ',', ' ', 'a', 'n', 'd', ' ', 'M', 'a', 'y', 'a', ' ', 'w', 'a', 's', ' ', 't', 'a', 's', 'k', 'e', 'd', ' ', 'w', 'i', 't', 'h', ' ', 'a', 'n', 'a', 'l', 'y', 'z', 'i', 'n', 'g', ' ', 'u', 's', 'e', 'r', ' ', 'd', 'a', 't', 'a', ' ', 't', 'o', ' ', 'h', 'e', 'l', 'p', ' ', 'i', 'm', 'p', 'r', 'o', 'v', 'e', ' ', 't', 'h', 'e', ' ', 'u', 's', 'e', 'r', ' ', 'e', 'x', 'p', 'e', 'r', 'i', 'e', 'n', 'c', 'e', '.', ' ', 'S', 'h', 'e', ' ', 'q', 'u', 'i', 'c', 'k', 'l', 'y', ' ', 'r', 'e', 'a', 'l', 'i', 'z', 'e', 'd', ' ', 't', 'h', 'a', 't', ' ', 'h', 'e', 'r', ' ', 'w', 'o', 'r', 'k', ' ', 'c', 'o', 'u', 'l', 'd', ' ', 'd', 'i', 'r', 'e', 'c', 't', 'l', 'y', ' ', 'i', 'm', 'p', 'a', 'c', 't', ' ', 't', 'h', 'e', ' ', 's', 'u', 'c', 'c', 'e', 's', 's', ' ', 'o', 'f', ' ', 't', 'h', 'e', ' ', 'p', 'r', 'o', 'd', 'u', 'c', 't', ' ', 'a', 'n', 'd', ' ', 't', 'h', 'e', ' ', 'c', 'o', 'm', 'p', 'a', 'n', 'y', '.', 'M', 'a', 'y', 'a', \"'\", 's', ' ', 'd', 'a', 'y', 's', ' ', 'w', 'e', 'r', 'e', ' ', 'f', 'i', 'l', 'l', 'e', 'd', ' ', 'w', 'i', 't', 'h', ' ', 'e', 'x', 't', 'r', 'a', 'c', 't', 'i', 'n', 'g', ',', ' ', 'c', 'l', 'e', 'a', 'n', 'i', 'n', 'g', ',', ' ', 'a', 'n', 'd', ' ', 'a', 'n', 'a', 'l', 'y', 'z', 'i', 'n', 'g', ' ', 'd', 'a', 't', 'a', '.', ' ', 'S', 'h', 'e', ' ', 'u', 's', 'e', 'd', ' ', 'h', 'e', 'r', ' ', 's', 'k', 'i', 'l', 'l', 's', ' ', 't', 'o', ' ', 'i', 'd', 'e', 'n', 't', 'i', 'f', 'y', ' ', 't', 'r', 'e', 'n', 'd', 's', ' ', 'a', 'n', 'd', ' ', 'p', 'a', 't', 't', 'e', 'r', 'n', 's', ' ', 't', 'h', 'a', 't', ' ', 'w', 'e', 'r', 'e', ' ', 'n', 'o', 't', ' ', 'i', 'm', 'm', 'e', 'd', 'i', 'a', 't', 'e', 'l', 'y', ' ', 'o', 'b', 'v', 'i', 'o', 'u', 's', '.', ' ', 'F', 'o', 'r', ' ', 'e', 'x', 'a', 'm', 'p', 'l', 'e', ',', ' ', 's', 'h', 'e', ' ', 'd', 'i', 's', 'c', 'o', 'v', 'e', 'r', 'e', 'd', ' ', 't', 'h', 'a', 't', ' ', 'u', 's', 'e', 'r', 's', ' ', 'i', 'n', ' ', 'a', ' ', 'p', 'a', 'r', 't', 'i', 'c', 'u', 'l', 'a', 'r', ' ', 'd', 'e', 'm', 'o', 'g', 'r', 'a', 'p', 'h', 'i', 'c', ' ', 'w', 'e', 'r', 'e', ' ', 'm', 'o', 'r', 'e', ' ', 'l', 'i', 'k', 'e', 'l', 'y', ' ', 't', 'o', ' ', 'e', 'n', 'g', 'a', 'g', 'e', ' ', 'w', 'i', 't', 'h', ' ', 'c', 'e', 'r', 't', 'a', 'i', 'n', ' ', 'f', 'e', 'a', 't', 'u', 'r', 'e', 's', ' ', 'o', 'f', ' ', 't', 'h', 'e', ' ', 'p', 'r', 'o', 'd', 'u', 'c', 't', '.', ' ', 'H', 'e', 'r', ' ', 'i', 'n', 's', 'i', 'g', 'h', 't', 's', ' ', 'h', 'e', 'l', 'p', 'e', 'd', ' ', 't', 'h', 'e', ' ', 'p', 'r', 'o', 'd', 'u', 'c', 't', ' ', 't', 'e', 'a', 'm', ' ', 'm', 'a', 'k', 'e', ' ', 'i', 'n', 'f', 'o', 'r', 'm', 'e', 'd', ' ', 'd', 'e', 'c', 'i', 's', 'i', 'o', 'n', 's', ' ', 'a', 'b', 'o', 'u', 't', ' ', 'w', 'h', 'e', 'r', 'e', ' ', 't', 'o', ' ', 'f', 'o', 'c', 'u', 's', ' ', 't', 'h', 'e', 'i', 'r', ' ', 'e', 'f', 'f', 'o', 'r', 't', 's', '.', 'R', 'i', 's', 'i', 'n', 'g', ' ', 'T', 'h', 'r', 'o', 'u', 'g', 'h', ' ', 't', 'h', 'e', ' ', 'R', 'a', 'n', 'k', 's', 'M', 'a', 'y', 'a', \"'\", 's', ' ', 'd', 'e', 'd', 'i', 'c', 'a', 't', 'i', 'o', 'n', ' ', 'a', 'n', 'd', ' ', 'a', 'b', 'i', 'l', 'i', 't', 'y', ' ', 't', 'o', ' ', 't', 'u', 'r', 'n', ' ', 'd', 'a', 't', 'a', ' ', 'i', 'n', 't', 'o', ' ', 'a', 'c', 't', 'i', 'o', 'n', 'a', 'b', 'l', 'e', ' ', 'i', 'n', 's', 'i', 'g', 'h', 't', 's', ' ', 'd', 'i', 'd', ' ', 'n', 'o', 't', ' ', 'g', 'o', ' ', 'u', 'n', 'n', 'o', 't', 'i', 'c', 'e', 'd', '.', ' ', 'S', 'h', 'e', ' ', 'w', 'a', 's', ' ', 'p', 'r', 'o', 'm', 'o', 't', 'e', 'd', ' ', 't', 'o', ' ', 'D', 'a', 't', 'a', ' ', 'A', 'n', 'a', 'l', 'y', 's', 't', ',', ' ', 'a', 'n', 'd', ' ', 'l', 'a', 't', 'e', 'r', ',', ' ', 'S', 'e', 'n', 'i', 'o', 'r', ' ', 'D', 'a', 't', 'a', ' ', 'A', 'n', 'a', 'l', 'y', 's', 't', '.', ' ', 'I', 'n', ' ', 'h', 'e', 'r', ' ', 'n', 'e', 'w', ' ', 'r', 'o', 'l', 'e', ',', ' ', 's', 'h', 'e', ' ', 't', 'o', 'o', 'k', ' ', 'o', 'n', ' ', 'm', 'o', 'r', 'e', ' ', 'r', 'e', 's', 'p', 'o', 'n', 's', 'i', 'b', 'i', 'l', 'i', 't', 'i', 'e', 's', ',', ' ', 'l', 'e', 'a', 'd', 'i', 'n', 'g', ' ', 'a', ' ', 's', 'm', 'a', 'l', 'l', ' ', 't', 'e', 'a', 'm', ' ', 'o', 'f', ' ', 'a', 'n', 'a', 'l', 'y', 's', 't', 's', ' ', 'a', 'n', 'd', ' ', 'w', 'o', 'r', 'k', 'i', 'n', 'g', ' ', 'c', 'l', 'o', 's', 'e', 'l', 'y', ' ', 'w', 'i', 't', 'h', ' ', 'o', 't', 'h', 'e', 'r', ' ', 'd', 'e', 'p', 'a', 'r', 't', 'm', 'e', 'n', 't', 's', ' ', 's', 'u', 'c', 'h', ' ', 'a', 's', ' ', 'm', 'a', 'r', 'k', 'e', 't', 'i', 'n', 'g', ',', ' ', 's', 'a', 'l', 'e', 's', ',', ' ', 'a', 'n', 'd', ' ', 'f', 'i', 'n', 'a', 'n', 'c', 'e', '.', 'O', 'n', 'e', ' ', 'o', 'f', ' ', 'M', 'a', 'y', 'a', \"'\", 's', ' ', 's', 'i', 'g', 'n', 'i', 'f', 'i', 'c', 'a', 'n', 't', ' ', 'a', 'c', 'h', 'i', 'e', 'v', 'e', 'm', 'e', 'n', 't', 's', ' ', 'w', 'a', 's', ' ', 's', 'p', 'e', 'a', 'r', 'h', 'e', 'a', 'd', 'i', 'n', 'g', ' ', 'a', ' ', 'p', 'r', 'o', 'j', 'e', 'c', 't', ' ', 't', 'o', ' ', 'd', 'e', 'v', 'e', 'l', 'o', 'p', ' ', 'a', ' ', 'c', 'u', 's', 't', 'o', 'm', 'e', 'r', ' ', 's', 'e', 'g', 'm', 'e', 'n', 't', 'a', 't', 'i', 'o', 'n', ' ', 'm', 'o', 'd', 'e', 'l', '.', ' ', 'B', 'y', ' ', 'a', 'n', 'a', 'l', 'y', 'z', 'i', 'n', 'g', ' ', 'c', 'u', 's', 't', 'o', 'm', 'e', 'r', ' ', 'b', 'e', 'h', 'a', 'v', 'i', 'o', 'r', ' ', 'a', 'n', 'd', ' ', 'p', 'r', 'e', 'f', 'e', 'r', 'e', 'n', 'c', 'e', 's', ',', ' ', 'h', 'e', 'r', ' ', 't', 'e', 'a', 'm', ' ', 'w', 'a', 's', ' ', 'a', 'b', 'l', 'e', ' ', 't', 'o', ' ', 'c', 'r', 'e', 'a', 't', 'e', ' ', 't', 'a', 'r', 'g', 'e', 't', 'e', 'd', ' ', 'm', 'a', 'r', 'k', 'e', 't', 'i', 'n', 'g', ' ', 'c', 'a', 'm', 'p', 'a', 'i', 'g', 'n', 's', ' ', 't', 'h', 'a', 't', ' ', 's', 'i', 'g', 'n', 'i', 'f', 'i', 'c', 'a', 'n', 't', 'l', 'y', ' ', 'i', 'n', 'c', 'r', 'e', 'a', 's', 'e', 'd', ' ', 't', 'h', 'e', ' ', 'c', 'o', 'm', 'p', 'a', 'n', 'y', \"'\", 's', ' ', 'r', 'e', 'v', 'e', 'n', 'u', 'e', '.', ' ', 'M', 'a', 'y', 'a', \"'\", 's', ' ', 'w', 'o', 'r', 'k', ' ', 'w', 'a', 's', ' ', 'i', 'n', 's', 't', 'r', 'u', 'm', 'e', 'n', 't', 'a', 'l', ' ', 'i', 'n', ' ', 'h', 'e', 'l', 'p', 'i', 'n', 'g', ' ', 't', 'h', 'e', ' ', 'c', 'o', 'm', 'p', 'a', 'n', 'y', ' ', 'g', 'r', 'o', 'w', ' ', 'a', 'n', 'd', ' ', 'e', 'x', 'p', 'a', 'n', 'd', ' ', 'i', 't', 's', ' ', 'c', 'u', 's', 't', 'o', 'm', 'e', 'r', ' ', 'b', 'a', 's', 'e', '.', 'T', 'h', 'e', ' ', 'C', 'h', 'a', 'l', 'l', 'e', 'n', 'g', 'e', 'D', 'e', 's', 'p', 'i', 't', 'e', ' ', 'h', 'e', 'r', ' ', 's', 'u', 'c', 'c', 'e', 's', 's', ',', ' ', 'M', 'a', 'y', 'a', ' ', 'f', 'a', 'c', 'e', 'd', ' ', 'a', ' ', 's', 'i', 'g', 'n', 'i', 'f', 'i', 'c', 'a', 'n', 't', ' ', 'c', 'h', 'a', 'l', 'l', 'e', 'n', 'g', 'e', '.', ' ', 'T', 'h', 'e', ' ', 'c', 'o', 'm', 'p', 'a', 'n', 'y', ' ', 'w', 'a', 's', ' ', 'p', 'r', 'e', 'p', 'a', 'r', 'i', 'n', 'g', ' ', 'f', 'o', 'r', ' ', 'a', ' ', 'm', 'a', 'j', 'o', 'r', ' ', 'p', 'r', 'o', 'd', 'u', 'c', 't', ' ', 'l', 'a', 'u', 'n', 'c', 'h', ',', ' ', 'a', 'n', 'd', ' ', 't', 'h', 'e', ' ', 'C', 'E', 'O', ' ', 'n', 'e', 'e', 'd', 'e', 'd', ' ', 'a', ' ', 'c', 'o', 'm', 'p', 'r', 'e', 'h', 'e', 'n', 's', 'i', 'v', 'e', ' ', 'a', 'n', 'a', 'l', 'y', 's', 'i', 's', ' ', 't', 'o', ' ', 'u', 'n', 'd', 'e', 'r', 's', 't', 'a', 'n', 'd', ' ', 't', 'h', 'e', ' ', 'p', 'o', 't', 'e', 'n', 't', 'i', 'a', 'l', ' ', 'm', 'a', 'r', 'k', 'e', 't', ' ', 'i', 'm', 'p', 'a', 'c', 't', '.', ' ', 'T', 'h', 'e', ' ', 'd', 'e', 'a', 'd', 'l', 'i', 'n', 'e', ' ', 'w', 'a', 's', ' ', 't', 'i', 'g', 'h', 't', ',', ' ', 'a', 'n', 'd', ' ', 't', 'h', 'e', ' ', 's', 't', 'a', 'k', 'e', 's', ' ', 'w', 'e', 'r', 'e', ' ', 'h', 'i', 'g', 'h', '.', 'M', 'a', 'y', 'a', ' ', 'a', 'n', 'd', ' ', 'h', 'e', 'r', ' ', 't', 'e', 'a', 'm', ' ', 'w', 'o', 'r', 'k', 'e', 'd', ' ', 'a', 'r', 'o', 'u', 'n', 'd', ' ', 't', 'h', 'e', ' ', 'c', 'l', 'o', 'c', 'k', ',', ' ', 'a', 'n', 'a', 'l', 'y', 'z', 'i', 'n', 'g', ' ', 'v', 'a', 's', 't', ' ', 'a', 'm', 'o', 'u', 'n', 't', 's', ' ', 'o', 'f', ' ', 'd', 'a', 't', 'a', ' ', 'f', 'r', 'o', 'm', ' ', 'v', 'a', 'r', 'i', 'o', 'u', 's', ' ', 's', 'o', 'u', 'r', 'c', 'e', 's', '.', ' ', 'T', 'h', 'e', 'y', ' ', 'u', 's', 'e', 'd', ' ', 'a', 'd', 'v', 'a', 'n', 'c', 'e', 'd', ' ', 'a', 'n', 'a', 'l', 'y', 't', 'i', 'c', 's', ' ', 't', 'e', 'c', 'h', 'n', 'i', 'q', 'u', 'e', 's', ',', ' ', 's', 'u', 'c', 'h', ' ', 'a', 's', ' ', 'p', 'r', 'e', 'd', 'i', 'c', 't', 'i', 'v', 'e', ' ', 'm', 'o', 'd', 'e', 'l', 'i', 'n', 'g', ' ', 'a', 'n', 'd', ' ', 's', 'e', 'n', 't', 'i', 'm', 'e', 'n', 't', ' ', 'a', 'n', 'a', 'l', 'y', 's', 'i', 's', ',', ' ', 't', 'o', ' ', 'p', 'r', 'o', 'v', 'i', 'd', 'e', ' ', 'a', ' ', 'd', 'e', 't', 'a', 'i', 'l', 'e', 'd', ' ', 'r', 'e', 'p', 'o', 'r', 't', '.', ' ', 'T', 'h', 'e', ' ', 'f', 'i', 'n', 'a', 'l', ' ', 'p', 'r', 'e', 's', 'e', 'n', 't', 'a', 't', 'i', 'o', 'n', ' ', 'w', 'a', 's', ' ', 'a', ' ', 's', 'u', 'c', 'c', 'e', 's', 's', ',', ' ', 'a', 'n', 'd', ' ', 't', 'h', 'e', ' ', 'i', 'n', 's', 'i', 'g', 'h', 't', 's', ' ', 'g', 'a', 'i', 'n', 'e', 'd', ' ', 'f', 'r', 'o', 'm', ' ', 'M', 'a', 'y', 'a', \"'\", 's', ' ', 'a', 'n', 'a', 'l', 'y', 's', 'i', 's', ' ', 'h', 'e', 'l', 'p', 'e', 'd', ' ', 't', 'h', 'e', ' ', 'c', 'o', 'm', 'p', 'a', 'n', 'y', ' ', 'm', 'a', 'k', 'e', ' ', 's', 't', 'r', 'a', 't', 'e', 'g', 'i', 'c', ' ', 'd', 'e', 'c', 'i', 's', 'i', 'o', 'n', 's', ' ', 't', 'h', 'a', 't', ' ', 'l', 'e', 'd', ' ', 't', 'o', ' ', 'a', ' ', 's', 'u', 'c', 'c', 'e', 's', 's', 'f', 'u', 'l', ' ', 'p', 'r', 'o', 'd', 'u', 'c', 't', ' ', 'l', 'a', 'u', 'n', 'c', 'h', '.', 'G', 'i', 'v', 'i', 'n', 'g', ' ', 'B', 'a', 'c', 'k', 'A', 's', ' ', 'M', 'a', 'y', 'a', \"'\", 's', ' ', 'c', 'a', 'r', 'e', 'e', 'r', ' ', 'f', 'l', 'o', 'u', 'r', 'i', 's', 'h', 'e', 'd', ',', ' ', 's', 'h', 'e', ' ', 'n', 'e', 'v', 'e', 'r', ' ', 'f', 'o', 'r', 'g', 'o', 't', ' ', 'h', 'e', 'r', ' ', 'r', 'o', 'o', 't', 's', '.', ' ', 'S', 'h', 'e', ' ', 's', 't', 'a', 'r', 't', 'e', 'd', ' ', 'm', 'e', 'n', 't', 'o', 'r', 'i', 'n', 'g', ' ', 's', 't', 'u', 'd', 'e', 'n', 't', 's', ' ', 'f', 'r', 'o', 'm', ' ', 'h', 'e', 'r', ' ', 'h', 'o', 'm', 'e', 't', 'o', 'w', 'n', ',', ' ', 's', 'h', 'a', 'r', 'i', 'n', 'g', ' ', 'h', 'e', 'r', ' ', 'j', 'o', 'u', 'r', 'n', 'e', 'y', ' ', 'a', 'n', 'd', ' ', 'e', 'n', 'c', 'o', 'u', 'r', 'a', 'g', 'i', 'n', 'g', ' ', 't', 'h', 'e', 'm', ' ', 't', 'o', ' ', 'p', 'u', 'r', 's', 'u', 'e', ' ', 'c', 'a', 'r', 'e', 'e', 'r', 's', ' ', 'i', 'n', ' ', 'd', 'a', 't', 'a', ' ', 'a', 'n', 'a', 'l', 'y', 't', 'i', 'c', 's', '.', ' ', 'M', 'a', 'y', 'a', ' ', 'a', 'l', 's', 'o', ' ', 'b', 'e', 'c', 'a', 'm', 'e', ' ', 'a', 'n', ' ', 'a', 'd', 'v', 'o', 'c', 'a', 't', 'e', ' ', 'f', 'o', 'r', ' ', 'd', 'i', 'v', 'e', 'r', 's', 'i', 't', 'y', ' ', 'i', 'n', ' ', 't', 'e', 'c', 'h', ',', ' ', 'w', 'o', 'r', 'k', 'i', 'n', 'g', ' ', 'w', 'i', 't', 'h', ' ', 'o', 'r', 'g', 'a', 'n', 'i', 'z', 'a', 't', 'i', 'o', 'n', 's', ' ', 't', 'o', ' ', 'p', 'r', 'o', 'm', 'o', 't', 'e', ' ', 'S', 'T', 'E', 'M', ' ', 'e', 'd', 'u', 'c', 'a', 't', 'i', 'o', 'n', ' ', 'f', 'o', 'r', ' ', 'y', 'o', 'u', 'n', 'g', ' ', 'g', 'i', 'r', 'l', 's', '.', 'T', 'h', 'e', ' ', 'P', 'r', 'e', 's', 'e', 'n', 't', 'T', 'o', 'd', 'a', 'y', ',', ' ', 'M', 'a', 'y', 'a', ' ', 'i', 's', ' ', 'a', ' ', 'C', 'h', 'i', 'e', 'f', ' ', 'D', 'a', 't', 'a', ' ', 'O', 'f', 'f', 'i', 'c', 'e', 'r', ' ', 'a', 't', ' ', 'a', ' ', 'l', 'e', 'a', 'd', 'i', 'n', 'g', ' ', 't', 'e', 'c', 'h', ' ', 'f', 'i', 'r', 'm', '.', ' ', 'S', 'h', 'e', ' ', 'c', 'o', 'n', 't', 'i', 'n', 'u', 'e', 's', ' ', 't', 'o', ' ', 'p', 'u', 's', 'h', ' ', 't', 'h', 'e', ' ', 'b', 'o', 'u', 'n', 'd', 'a', 'r', 'i', 'e', 's', ' ', 'o', 'f', ' ', 'w', 'h', 'a', 't', \"'\", 's', ' ', 'p', 'o', 's', 's', 'i', 'b', 'l', 'e', ' ', 'w', 'i', 't', 'h', ' ', 'd', 'a', 't', 'a', ',', ' ', 'd', 'r', 'i', 'v', 'i', 'n', 'g', ' ', 'i', 'n', 'n', 'o', 'v', 'a', 't', 'i', 'o', 'n', ' ', 'a', 'n', 'd', ' ', 'm', 'a', 'k', 'i', 'n', 'g', ' ', 'a', ' ', 'p', 'o', 's', 'i', 't', 'i', 'v', 'e', ' ', 'i', 'm', 'p', 'a', 'c', 't', ' ', 'o', 'n', ' ', 't', 'h', 'e', ' ', 'w', 'o', 'r', 'l', 'd', '.', ' ', 'M', 'a', 'y', 'a', \"'\", 's', ' ', 's', 't', 'o', 'r', 'y', ' ', 'i', 's', ' ', 'a', ' ', 't', 'e', 's', 't', 'a', 'm', 'e', 'n', 't', ' ', 't', 'o', ' ', 't', 'h', 'e', ' ', 'p', 'o', 'w', 'e', 'r', ' ', 'o', 'f', ' ', 'c', 'u', 'r', 'i', 'o', 's', 'i', 't', 'y', ',', ' ', 'h', 'a', 'r', 'd', ' ', 'w', 'o', 'r', 'k', ',', ' ', 'a', 'n', 'd', ' ', 'p', 'e', 'r', 's', 'e', 'v', 'e', 'r', 'a', 'n', 'c', 'e', '.', 'H', 'e', 'r', ' ', 'j', 'o', 'u', 'r', 'n', 'e', 'y', ' ', 'f', 'r', 'o', 'm', ' ', 'a', ' ', 's', 'm', 'a', 'l', 'l', '-', 't', 'o', 'w', 'n', ' ', 'g', 'i', 'r', 'l', ' ', 'w', 'i', 't', 'h', ' ', 'a', ' ', 'p', 'a', 's', 's', 'i', 'o', 'n', ' ', 'f', 'o', 'r', ' ', 'n', 'u', 'm', 'b', 'e', 'r', 's', ' ', 't', 'o', ' ', 'a', ' ', 'r', 'e', 's', 'p', 'e', 'c', 't', 'e', 'd', ' ', 'l', 'e', 'a', 'd', 'e', 'r', ' ', 'i', 'n', ' ', 't', 'h', 'e', ' ', 'f', 'i', 'e', 'l', 'd', ' ', 'o', 'f', ' ', 'd', 'a', 't', 'a', ' ', 'a', 'n', 'a', 'l', 'y', 't', 'i', 'c', 's', ' ', 'i', 's', ' ', 'a', 'n', ' ', 'i', 'n', 's', 'p', 'i', 'r', 'a', 't', 'i', 'o', 'n', ' ', 't', 'o', ' ', 'm', 'a', 'n', 'y', '.', ' ', 'M', 'a', 'y', 'a', \"'\", 's', ' ', 's', 't', 'o', 'r', 'y', ' ', 'r', 'e', 'm', 'i', 'n', 'd', 's', ' ', 'u', 's', ' ', 't', 'h', 'a', 't', ' ', 'w', 'i', 't', 'h', ' ', 'd', 'e', 't', 'e', 'r', 'm', 'i', 'n', 'a', 't', 'i', 'o', 'n', ' ', 'a', 'n', 'd', ' ', 't', 'h', 'e', ' ', 'r', 'i', 'g', 'h', 't', ' ', 's', 'u', 'p', 'p', 'o', 'r', 't', ',', ' ', 'a', 'n', 'y', 'o', 'n', 'e', ' ', 'c', 'a', 'n', ' ', 'a', 'c', 'h', 'i', 'e', 'v', 'e', ' ', 't', 'h', 'e', 'i', 'r', ' ', 'd', 'r', 'e', 'a', 'm', 's', ' ', 'a', 'n', 'd', ' ', 'm', 'a', 'k', 'e', ' ', 'a', ' ', 'd', 'i', 'f', 'f', 'e', 'r', 'e', 'n', 'c', 'e', '.', 'C', 'o', 'n', 'c', 'l', 'u', 's', 'i', 'o', 'n', 'M', 'a', 'y', 'a', \"'\", 's', ' ', 's', 't', 'o', 'r', 'y', ' ', 'i', 's', ' ', 'a', ' ', 'c', 'o', 'm', 'p', 'e', 'l', 'l', 'i', 'n', 'g', ' ', 'n', 'a', 'r', 'r', 'a', 't', 'i', 'v', 'e', ' ', 'o', 'f', ' ', 'a', 'n', ' ', 'a', 'n', 'a', 'l', 'y', 's', 't', \"'\", 's', ' ', 'j', 'o', 'u', 'r', 'n', 'e', 'y', '.', ' ', 'I', 't', ' ', 'h', 'i', 'g', 'h', 'l', 'i', 'g', 'h', 't', 's', ' ', 't', 'h', 'e', ' ', 'c', 'h', 'a', 'l', 'l', 'e', 'n', 'g', 'e', 's', ' ', 'a', 'n', 'd', ' ', 't', 'r', 'i', 'u', 'm', 'p', 'h', 's', ' ', 'f', 'a', 'c', 'e', 'd', ' ', 'a', 'l', 'o', 'n', 'g', ' ', 't', 'h', 'e', ' ', 'w', 'a', 'y', ' ', 'a', 'n', 'd', ' ', 'e', 'm', 'p', 'h', 'a', 's', 'i', 'z', 'e', 's', ' ', 't', 'h', 'e', ' ', 'i', 'm', 'p', 'o', 'r', 't', 'a', 'n', 'c', 'e', ' ', 'o', 'f', ' ', 'c', 'o', 'n', 't', 'i', 'n', 'u', 'o', 'u', 's', ' ', 'l', 'e', 'a', 'r', 'n', 'i', 'n', 'g', ' ', 'a', 'n', 'd', ' ', 'g', 'i', 'v', 'i', 'n', 'g', ' ', 'b', 'a', 'c', 'k', ' ', 't', 'o', ' ', 't', 'h', 'e', ' ', 'c', 'o', 'm', 'm', 'u', 'n', 'i', 't', 'y', '.', 'B', 'a', 'a', ',', ' ', 'b', 'a', 'a', ' ', 'b', 'l', 'a', 'c', 'k', ' ', 's', 'h', 'e', 'e', 'p', 'H', 'a', 'v', 'e', ' ', 'y', 'o', 'u', ' ', 'a', 'n', 'y', ' ', 'w', 'o', 'o', 'l', 'Y', 'e', 's', ' ', 's', 'i', 'r', ',', ' ', 'y', 'e', 's', ' ', 's', 'i', 'r', 'T', 'h', 'r', 'e', 'e', ' ', 'b', 'a', 'g', 's', ' ', 'f', 'u', 'l', 'l', '.', 'O', 'n', 'e', ' ', 'f', 'o', 'r', ' ', 'm', 'y', ' ', 'm', 'a', 's', 't', 'e', 'r', 'A', 'n', 'd', ' ', 'o', 'n', 'e', ' ', 'f', 'o', 'r', ' ', 'm', 'y', ' ', 'd', 'a', 'm', 'e', 'A', 'n', 'd', ' ', 'o', 'n', 'e', ' ', 'f', 'o', 'r', ' ', 't', 'h', 'e', ' ', 'l', 'i', 't', 't', 'l', 'e', ' ', 'b', 'o', 'y', 'W', 'h', 'o', ' ', 'l', 'i', 'v', 'e', 's', ' ', 'd', 'o', 'w', 'n', ' ', 't', 'h', 'e', ' ', 'l', 'a', 'n', 'e', '.', 'T', 'h', 'a', 'n', 'k', ' ', 'y', 'o', 'u', ' ', 's', 'a', 'i', 'd', ' ', 't', 'h', 'e', ' ', 'm', 'a', 's', 't', 'e', 'r', 'A', 'n', 'd', ' ', 't', 'h', 'a', 'n', 'k', ' ', 'y', 'o', 'u', ' ', 's', 'a', 'i', 'd', ' ', 't', 'h', 'e', ' ', 'd', 'a', 'm', 'e', 'A', 'n', 'd', ' ', 't', 'h', 'a', 'n', 'k', ' ', 'y', 'o', 'u', ' ', 's', 'a', 'i', 'd', ' ', 't', 'h', 'e', ' ', 'l', 'i', 't', 't', 'l', 'e', ' ', 'b', 'o', 'y', 'W', 'h', 'o', ' ', 'l', 'i', 'v', 'e', 's', ' ', 'd', 'o', 'w', 'n', ' ', 't', 'h', 'e', ' ', 'l', 'a', 'n', 'e', '.']\n"
     ]
    }
   ],
   "source": [
    "characters_list = []\n",
    "\n",
    "for file_path in files:\n",
    "    with open(file_path, 'r') as file:\n",
    "        for line in file:\n",
    "            characters_list.extend(list(line.strip()))\n",
    "\n",
    "print(characters_list)"
   ]
  },
  {
   "cell_type": "code",
   "execution_count": null,
   "id": "f8501583",
   "metadata": {},
   "outputs": [],
   "source": []
  },
  {
   "cell_type": "code",
   "execution_count": null,
   "id": "2be61b24",
   "metadata": {},
   "outputs": [],
   "source": []
  },
  {
   "cell_type": "code",
   "execution_count": null,
   "id": "c3245dd6",
   "metadata": {},
   "outputs": [],
   "source": []
  },
  {
   "cell_type": "code",
   "execution_count": null,
   "id": "5e88fc71",
   "metadata": {},
   "outputs": [],
   "source": []
  },
  {
   "cell_type": "code",
   "execution_count": null,
   "id": "d32c25ac",
   "metadata": {},
   "outputs": [],
   "source": []
  },
  {
   "cell_type": "code",
   "execution_count": null,
   "id": "9ae982bb",
   "metadata": {},
   "outputs": [],
   "source": []
  },
  {
   "cell_type": "code",
   "execution_count": null,
   "id": "f9cdc49f",
   "metadata": {},
   "outputs": [],
   "source": []
  },
  {
   "cell_type": "code",
   "execution_count": null,
   "id": "25115799",
   "metadata": {},
   "outputs": [],
   "source": []
  },
  {
   "cell_type": "code",
   "execution_count": null,
   "id": "f0f334ee",
   "metadata": {},
   "outputs": [],
   "source": []
  },
  {
   "cell_type": "code",
   "execution_count": null,
   "id": "b126109e",
   "metadata": {},
   "outputs": [],
   "source": []
  }
 ],
 "metadata": {
  "kernelspec": {
   "display_name": "Python 3 (ipykernel)",
   "language": "python",
   "name": "python3"
  },
  "language_info": {
   "codemirror_mode": {
    "name": "ipython",
    "version": 3
   },
   "file_extension": ".py",
   "mimetype": "text/x-python",
   "name": "python",
   "nbconvert_exporter": "python",
   "pygments_lexer": "ipython3",
   "version": "3.11.4"
  }
 },
 "nbformat": 4,
 "nbformat_minor": 5
}
