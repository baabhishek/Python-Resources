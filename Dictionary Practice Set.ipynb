{
 "cells": [
  {
   "cell_type": "markdown",
   "id": "d7121342",
   "metadata": {},
   "source": [
    "### Qn:1\n",
    "\n",
    "Initialize a dictionary \"emp_info\" with below details\n",
    "\n",
    "In - emp_info['Tom']\n",
    "\n",
    "Out - {'email':'tom_latham019@gmail.com', 'Phone': +1987654321, 'City': 'California'}\n",
    "\n",
    "In - emp_info['Kathy']\n",
    "\n",
    "Out - {'email':'kathy_abram897@gmail.com', 'Phone': +1887654321, 'City': 'New York'}\n",
    "\n"
   ]
  },
  {
   "cell_type": "code",
   "execution_count": 1,
   "id": "cd7c558b",
   "metadata": {},
   "outputs": [
    {
     "name": "stdout",
     "output_type": "stream",
     "text": [
      "Tom's info: {'email': 'tom_latham019@gmail.com', 'Phone': 1987654321, 'City': 'California'}\n",
      "Kathy's info: {'email': 'kathy_abram897@gmail.com', 'Phone': 1887654321, 'City': 'New York'}\n"
     ]
    }
   ],
   "source": [
    "emp_info = {\n",
    "    'Tom': {'email': 'tom_latham019@gmail.com', 'Phone': +1987654321, 'City': 'California'},\n",
    "    'Kathy': {'email': 'kathy_abram897@gmail.com', 'Phone': +1887654321, 'City': 'New York'}\n",
    "    }\n",
    "\n",
    "\n",
    "print(\"Tom's info:\", emp_info['Tom'])\n",
    "print(\"Kathy's info:\", emp_info['Kathy'])\n"
   ]
  },
  {
   "cell_type": "markdown",
   "id": "0a890168",
   "metadata": {},
   "source": [
    "### Qn: 2   \n",
    "\n",
    "Create a dictionary out of below inputs\n",
    "\n",
    "lst1 = ['emp1', 'emp2', 'emp3']\n",
    "\n",
    "emp_key = ['e_name', 'e_id', 'e_sal']\n",
    "\n",
    "emp1_val = ['John', 'SG101', '$10,000']\n",
    "\n",
    "emp2_val = ['Smith', 'SG102', '$9,000']\n",
    "\n",
    "emp3_val = ['Peter', 'SG103', '$9,500']\n",
    "\n",
    "Expected Output:- {'emp1':{'e_name':'John', 'e_id':'SG101', 'e_sal':$10,000}, \n",
    "\n",
    "                    'emp2':{'e_name':'Smith', 'e_id':'SG102', 'e_sal':$9,000},\n",
    "                    \n",
    "                   'emp3':{'e_name':'Peter', 'e_id':'SG103', 'e_sal':$9,500}}\n",
    "\n"
   ]
  },
  {
   "cell_type": "code",
   "execution_count": 2,
   "id": "ebad10de",
   "metadata": {},
   "outputs": [
    {
     "name": "stdout",
     "output_type": "stream",
     "text": [
      "{'emp1': {'e_name': 'John', 'e_id': 'SG101', 'e_sal': '$10,000'}, 'emp2': {'e_name': 'Smith', 'e_id': 'SG102', 'e_sal': '$9,000'}, 'emp3': {'e_name': 'Peter', 'e_id': 'SG103', 'e_sal': '$9,500'}}\n"
     ]
    }
   ],
   "source": [
    "lst1 = ['emp1', 'emp2', 'emp3']\n",
    "emp_key = ['e_name', 'e_id', 'e_sal']\n",
    "emp1_val = ['John', 'SG101', '$10,000']\n",
    "emp2_val = ['Smith', 'SG102', '$9,000']\n",
    "emp3_val = ['Peter', 'SG103', '$9,500']\n",
    "\n",
    "\n",
    "emp_info = {\n",
    "    lst1[0]: {emp_key[0]: emp1_val[0], emp_key[1]: emp1_val[1], emp_key[2]: emp1_val[2]},\n",
    "    lst1[1]: {emp_key[0]: emp2_val[0], emp_key[1]: emp2_val[1], emp_key[2]: emp2_val[2]},\n",
    "    lst1[2]: {emp_key[0]: emp3_val[0], emp_key[1]: emp3_val[1], emp_key[2]: emp3_val[2]},\n",
    "}\n",
    "\n",
    "\n",
    "print(emp_info)\n"
   ]
  },
  {
   "cell_type": "markdown",
   "id": "f66aac2a",
   "metadata": {},
   "source": [
    "### Qn. 3\n",
    "\n",
    "Acess the value of key 'history'\n",
    "\n",
    "sampleDict = { \n",
    "   \"class\":{ \n",
    "      \"student\":{ \n",
    "         \"name\":\"Mike\",\n",
    "         \"marks\":{ \n",
    "            \"physics\":70,\n",
    "            \"history\":80\n",
    "         }\n",
    "      }\n",
    "   }\n",
    "}\n"
   ]
  },
  {
   "cell_type": "code",
   "execution_count": 9,
   "id": "9228b9a4",
   "metadata": {},
   "outputs": [
    {
     "name": "stdout",
     "output_type": "stream",
     "text": [
      "The marks in history:- 80\n"
     ]
    }
   ],
   "source": [
    "sampleDict = { \n",
    "   \"class\":{ \n",
    "      \"student\":{ \n",
    "         \"name\":\"Mike\",\n",
    "         \"marks\":{ \n",
    "            \"physics\":70,\n",
    "            \"history\":80\n",
    "         }\n",
    "      }\n",
    "   }\n",
    "}\n",
    "\n",
    "\n",
    "val_history= sampleDict['class']['student']['marks']['history']\n",
    "\n",
    "print(\"The marks in history:-\",val_history)"
   ]
  },
  {
   "cell_type": "markdown",
   "id": "dd74b497",
   "metadata": {},
   "source": [
    "## Qn.4\n",
    "\n",
    "Initialize dictionary with default values. Inputs are:-\n",
    "\n",
    "employees = ['Kelly', 'Emma', 'John']\n",
    "\n",
    "defaults = {\"designation\": 'Application Developer', \"salary\": 8000}\n",
    "\n",
    "\n",
    "Expected output:- {'Kelly': {'designation': 'Application Developer', 'salary': 8000}, \n",
    "\n",
    "                  'Emma': {'designation': 'Application Developer', 'salary': 8000}, \n",
    "                  \n",
    "                  'John': {'designation': 'Application Developer', 'salary': 8000}\n",
    "                  }\n",
    "\n",
    "\n"
   ]
  },
  {
   "cell_type": "code",
   "execution_count": 23,
   "id": "84af0f6d",
   "metadata": {},
   "outputs": [
    {
     "name": "stdout",
     "output_type": "stream",
     "text": [
      "{'Kelly': {'designation': 'Application Developer', 'salary': 8000}, 'Emma': {'designation': 'Application Developer', 'salary': 8000}, 'John': {'designation': 'Application Developer', 'salary': 8000}}\n"
     ]
    }
   ],
   "source": [
    "#method1:\n",
    "\n",
    "employees = ['Kelly', 'Emma', 'John']\n",
    "\n",
    "defaults = {\"designation\": 'Application Developer', \"salary\": 8000}\n",
    "\n",
    "emp_details = {\n",
    "    'Kelly': {**defaults},\n",
    "    'Emma' :{**defaults},\n",
    "    'John' :{**defaults}\n",
    "}\n",
    "\n",
    "print(emp_details)"
   ]
  },
  {
   "cell_type": "code",
   "execution_count": 24,
   "id": "b3a24a0f",
   "metadata": {},
   "outputs": [
    {
     "name": "stdout",
     "output_type": "stream",
     "text": [
      "{'Kelly': {'designation': 'Application Developer', 'salary': 8000}, 'Emma': {'designation': 'Application Developer', 'salary': 8000}, 'John': {'designation': 'Application Developer', 'salary': 8000}}\n"
     ]
    }
   ],
   "source": [
    "#method2:\n",
    "\n",
    "employee_info = {\n",
    "    employees[0]: defaults.copy(),\n",
    "    employees[1]: defaults.copy(),\n",
    "    employees[2]: defaults.copy()\n",
    "}\n",
    "\n",
    "print(employee_info)"
   ]
  },
  {
   "cell_type": "markdown",
   "id": "9881c45c",
   "metadata": {},
   "source": [
    "### Qn.5\n",
    "\n",
    "In gene expression, mRNA is transcribed from a DNA template. \n",
    "\n",
    "The 4 nucleotide bases of A, T, C, G corresponds to the U, A, G, C bases of the mRNA. \n",
    "\n",
    "Write a function that returns the mRNA transcript given the sequence of a DNA strand.\n",
    "\n",
    "Use a dictionary to provide the mapping of DNA to RNA bases."
   ]
  },
  {
   "cell_type": "code",
   "execution_count": 26,
   "id": "da707da6",
   "metadata": {},
   "outputs": [
    {
     "name": "stdout",
     "output_type": "stream",
     "text": [
      "DNA Sequence: ATCG\n",
      "mRNA Transcript: UAGC\n"
     ]
    }
   ],
   "source": [
    "def dna_to_mrna(dna_sequence):\n",
    "\n",
    "    dna_to_rna = {\n",
    "        'A': 'U',\n",
    "        'T': 'A',\n",
    "        'C': 'G',\n",
    "        'G': 'C'\n",
    "    }\n",
    "    \n",
    "\n",
    "    mrna_sequence = ''.join(dna_to_rna[base] for base in dna_sequence)\n",
    "    \n",
    "    return mrna_sequence\n",
    "\n",
    "\n",
    "dna_sequence = \"ATCG\"\n",
    "mrna_sequence = dna_to_mrna(dna_sequence)\n",
    "print(f\"DNA Sequence: {dna_sequence}\")\n",
    "print(f\"mRNA Transcript: {mrna_sequence}\")\n"
   ]
  },
  {
   "cell_type": "markdown",
   "id": "ae5d652e",
   "metadata": {},
   "source": [
    "### Qn.6\n",
    "\n",
    "Write a function which takes a word as input and returns a dictionary with letters as key and no of time letters are repeated as value.\n",
    "\n",
    "In - count_letter('google.com')\n",
    "\n",
    "Out - {'g': 2, 'o': 3, 'l': 1, 'e': 1, '.': 1, 'c': 1, 'm': 1}"
   ]
  },
  {
   "cell_type": "code",
   "execution_count": 38,
   "id": "4627cc4f",
   "metadata": {},
   "outputs": [
    {
     "name": "stdout",
     "output_type": "stream",
     "text": [
      "{'g': 2, 'o': 3, 'l': 1, 'e': 1, '.': 1, 'c': 1, 'm': 1}\n"
     ]
    }
   ],
   "source": [
    "def count_letter(word):\n",
    "    letter_count = {}\n",
    "    \n",
    "    for i in word:\n",
    "        if i in letter_count:\n",
    "            letter_count[i] = letter_count[i]+ 1\n",
    "        else:\n",
    "            letter_count[i] = 1\n",
    "            \n",
    "    return letter_count\n",
    "\n",
    "\n",
    "word = \"google.com\"\n",
    "count_letter(word)\n",
    "print(count_letter(word))\n"
   ]
  },
  {
   "cell_type": "code",
   "execution_count": null,
   "id": "102a2869",
   "metadata": {},
   "outputs": [],
   "source": []
  },
  {
   "cell_type": "code",
   "execution_count": null,
   "id": "6fa167b8",
   "metadata": {},
   "outputs": [],
   "source": []
  },
  {
   "cell_type": "code",
   "execution_count": null,
   "id": "0377def5",
   "metadata": {},
   "outputs": [],
   "source": []
  },
  {
   "cell_type": "code",
   "execution_count": null,
   "id": "893a3341",
   "metadata": {},
   "outputs": [],
   "source": []
  },
  {
   "cell_type": "code",
   "execution_count": null,
   "id": "e34f8401",
   "metadata": {},
   "outputs": [],
   "source": []
  },
  {
   "cell_type": "code",
   "execution_count": null,
   "id": "d8cd5e40",
   "metadata": {},
   "outputs": [],
   "source": []
  },
  {
   "cell_type": "code",
   "execution_count": null,
   "id": "6598c980",
   "metadata": {},
   "outputs": [],
   "source": []
  },
  {
   "cell_type": "code",
   "execution_count": null,
   "id": "abaa7b12",
   "metadata": {},
   "outputs": [],
   "source": []
  },
  {
   "cell_type": "code",
   "execution_count": null,
   "id": "70fe4bee",
   "metadata": {},
   "outputs": [],
   "source": []
  },
  {
   "cell_type": "code",
   "execution_count": null,
   "id": "a947cb13",
   "metadata": {},
   "outputs": [],
   "source": []
  }
 ],
 "metadata": {
  "kernelspec": {
   "display_name": "Python 3 (ipykernel)",
   "language": "python",
   "name": "python3"
  },
  "language_info": {
   "codemirror_mode": {
    "name": "ipython",
    "version": 3
   },
   "file_extension": ".py",
   "mimetype": "text/x-python",
   "name": "python",
   "nbconvert_exporter": "python",
   "pygments_lexer": "ipython3",
   "version": "3.11.4"
  }
 },
 "nbformat": 4,
 "nbformat_minor": 5
}
